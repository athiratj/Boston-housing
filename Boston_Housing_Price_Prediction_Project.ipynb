{
 "cells": [
  {
   "cell_type": "code",
   "execution_count": 0,
   "metadata": {
    "colab": {},
    "colab_type": "code",
    "id": "THbrTbGDYosy"
   },
   "outputs": [],
   "source": [
    "import pandas as pd\n",
    "import numpy as np\n",
    "\n",
    "import matplotlib as mpl\n",
    "import matplotlib.pyplot as plt\n",
    "\n",
    "from matplotlib.animation import FuncAnimation\n",
    "\n",
    "from sklearn.datasets import load_boston\n",
    "from sklearn.metrics import mean_squared_error\n",
    "from sklearn.model_selection import train_test_split\n",
    "from sklearn.preprocessing import MinMaxScaler\n",
    "from IPython.display import HTML"
   ]
  },
  {
   "cell_type": "code",
   "execution_count": 0,
   "metadata": {
    "colab": {
     "base_uri": "https://localhost:8080/",
     "height": 894
    },
    "colab_type": "code",
    "id": "BnEKxzGzGYdm",
    "outputId": "d8cfc566-cb26-4e4e-ba15-9dea196723ca"
   },
   "outputs": [
    {
     "name": "stdout",
     "output_type": "stream",
     "text": [
      ".. _boston_dataset:\n",
      "\n",
      "Boston house prices dataset\n",
      "---------------------------\n",
      "\n",
      "**Data Set Characteristics:**  \n",
      "\n",
      "    :Number of Instances: 506 \n",
      "\n",
      "    :Number of Attributes: 13 numeric/categorical predictive. Median Value (attribute 14) is usually the target.\n",
      "\n",
      "    :Attribute Information (in order):\n",
      "        - CRIM     per capita crime rate by town\n",
      "        - ZN       proportion of residential land zoned for lots over 25,000 sq.ft.\n",
      "        - INDUS    proportion of non-retail business acres per town\n",
      "        - CHAS     Charles River dummy variable (= 1 if tract bounds river; 0 otherwise)\n",
      "        - NOX      nitric oxides concentration (parts per 10 million)\n",
      "        - RM       average number of rooms per dwelling\n",
      "        - AGE      proportion of owner-occupied units built prior to 1940\n",
      "        - DIS      weighted distances to five Boston employment centres\n",
      "        - RAD      index of accessibility to radial highways\n",
      "        - TAX      full-value property-tax rate per $10,000\n",
      "        - PTRATIO  pupil-teacher ratio by town\n",
      "        - B        1000(Bk - 0.63)^2 where Bk is the proportion of blacks by town\n",
      "        - LSTAT    % lower status of the population\n",
      "        - MEDV     Median value of owner-occupied homes in $1000's\n",
      "\n",
      "    :Missing Attribute Values: None\n",
      "\n",
      "    :Creator: Harrison, D. and Rubinfeld, D.L.\n",
      "\n",
      "This is a copy of UCI ML housing dataset.\n",
      "https://archive.ics.uci.edu/ml/machine-learning-databases/housing/\n",
      "\n",
      "\n",
      "This dataset was taken from the StatLib library which is maintained at Carnegie Mellon University.\n",
      "\n",
      "The Boston house-price data of Harrison, D. and Rubinfeld, D.L. 'Hedonic\n",
      "prices and the demand for clean air', J. Environ. Economics & Management,\n",
      "vol.5, 81-102, 1978.   Used in Belsley, Kuh & Welsch, 'Regression diagnostics\n",
      "...', Wiley, 1980.   N.B. Various transformations are used in the table on\n",
      "pages 244-261 of the latter.\n",
      "\n",
      "The Boston house-price data has been used in many machine learning papers that address regression\n",
      "problems.   \n",
      "     \n",
      ".. topic:: References\n",
      "\n",
      "   - Belsley, Kuh & Welsch, 'Regression diagnostics: Identifying Influential Data and Sources of Collinearity', Wiley, 1980. 244-261.\n",
      "   - Quinlan,R. (1993). Combining Instance-Based and Model-Based Learning. In Proceedings on the Tenth International Conference of Machine Learning, 236-243, University of Massachusetts, Amherst. Morgan Kaufmann.\n",
      "\n"
     ]
    }
   ],
   "source": [
    "boston=load_boston()\n",
    "print(boston.DESCR)"
   ]
  },
  {
   "cell_type": "code",
   "execution_count": 0,
   "metadata": {
    "colab": {
     "base_uri": "https://localhost:8080/",
     "height": 402
    },
    "colab_type": "code",
    "id": "BqOTiitWGfN1",
    "outputId": "84728c3b-3667-49ee-f270-3770874ba6da"
   },
   "outputs": [
    {
     "data": {
      "text/html": [
       "<div>\n",
       "<style scoped>\n",
       "    .dataframe tbody tr th:only-of-type {\n",
       "        vertical-align: middle;\n",
       "    }\n",
       "\n",
       "    .dataframe tbody tr th {\n",
       "        vertical-align: top;\n",
       "    }\n",
       "\n",
       "    .dataframe thead th {\n",
       "        text-align: right;\n",
       "    }\n",
       "</style>\n",
       "<table border=\"1\" class=\"dataframe\">\n",
       "  <thead>\n",
       "    <tr style=\"text-align: right;\">\n",
       "      <th></th>\n",
       "      <th>CRIM</th>\n",
       "      <th>ZN</th>\n",
       "      <th>INDUS</th>\n",
       "      <th>CHAS</th>\n",
       "      <th>NOX</th>\n",
       "      <th>RM</th>\n",
       "      <th>AGE</th>\n",
       "      <th>DIS</th>\n",
       "      <th>RAD</th>\n",
       "      <th>TAX</th>\n",
       "      <th>PTRATIO</th>\n",
       "      <th>B</th>\n",
       "      <th>LSTAT</th>\n",
       "    </tr>\n",
       "  </thead>\n",
       "  <tbody>\n",
       "    <tr>\n",
       "      <th>0</th>\n",
       "      <td>0.00632</td>\n",
       "      <td>18.0</td>\n",
       "      <td>2.31</td>\n",
       "      <td>0.0</td>\n",
       "      <td>0.538</td>\n",
       "      <td>6.575</td>\n",
       "      <td>65.2</td>\n",
       "      <td>4.0900</td>\n",
       "      <td>1.0</td>\n",
       "      <td>296.0</td>\n",
       "      <td>15.3</td>\n",
       "      <td>396.90</td>\n",
       "      <td>4.98</td>\n",
       "    </tr>\n",
       "    <tr>\n",
       "      <th>1</th>\n",
       "      <td>0.02731</td>\n",
       "      <td>0.0</td>\n",
       "      <td>7.07</td>\n",
       "      <td>0.0</td>\n",
       "      <td>0.469</td>\n",
       "      <td>6.421</td>\n",
       "      <td>78.9</td>\n",
       "      <td>4.9671</td>\n",
       "      <td>2.0</td>\n",
       "      <td>242.0</td>\n",
       "      <td>17.8</td>\n",
       "      <td>396.90</td>\n",
       "      <td>9.14</td>\n",
       "    </tr>\n",
       "    <tr>\n",
       "      <th>2</th>\n",
       "      <td>0.02729</td>\n",
       "      <td>0.0</td>\n",
       "      <td>7.07</td>\n",
       "      <td>0.0</td>\n",
       "      <td>0.469</td>\n",
       "      <td>7.185</td>\n",
       "      <td>61.1</td>\n",
       "      <td>4.9671</td>\n",
       "      <td>2.0</td>\n",
       "      <td>242.0</td>\n",
       "      <td>17.8</td>\n",
       "      <td>392.83</td>\n",
       "      <td>4.03</td>\n",
       "    </tr>\n",
       "    <tr>\n",
       "      <th>3</th>\n",
       "      <td>0.03237</td>\n",
       "      <td>0.0</td>\n",
       "      <td>2.18</td>\n",
       "      <td>0.0</td>\n",
       "      <td>0.458</td>\n",
       "      <td>6.998</td>\n",
       "      <td>45.8</td>\n",
       "      <td>6.0622</td>\n",
       "      <td>3.0</td>\n",
       "      <td>222.0</td>\n",
       "      <td>18.7</td>\n",
       "      <td>394.63</td>\n",
       "      <td>2.94</td>\n",
       "    </tr>\n",
       "    <tr>\n",
       "      <th>4</th>\n",
       "      <td>0.06905</td>\n",
       "      <td>0.0</td>\n",
       "      <td>2.18</td>\n",
       "      <td>0.0</td>\n",
       "      <td>0.458</td>\n",
       "      <td>7.147</td>\n",
       "      <td>54.2</td>\n",
       "      <td>6.0622</td>\n",
       "      <td>3.0</td>\n",
       "      <td>222.0</td>\n",
       "      <td>18.7</td>\n",
       "      <td>396.90</td>\n",
       "      <td>5.33</td>\n",
       "    </tr>\n",
       "    <tr>\n",
       "      <th>...</th>\n",
       "      <td>...</td>\n",
       "      <td>...</td>\n",
       "      <td>...</td>\n",
       "      <td>...</td>\n",
       "      <td>...</td>\n",
       "      <td>...</td>\n",
       "      <td>...</td>\n",
       "      <td>...</td>\n",
       "      <td>...</td>\n",
       "      <td>...</td>\n",
       "      <td>...</td>\n",
       "      <td>...</td>\n",
       "      <td>...</td>\n",
       "    </tr>\n",
       "    <tr>\n",
       "      <th>501</th>\n",
       "      <td>0.06263</td>\n",
       "      <td>0.0</td>\n",
       "      <td>11.93</td>\n",
       "      <td>0.0</td>\n",
       "      <td>0.573</td>\n",
       "      <td>6.593</td>\n",
       "      <td>69.1</td>\n",
       "      <td>2.4786</td>\n",
       "      <td>1.0</td>\n",
       "      <td>273.0</td>\n",
       "      <td>21.0</td>\n",
       "      <td>391.99</td>\n",
       "      <td>9.67</td>\n",
       "    </tr>\n",
       "    <tr>\n",
       "      <th>502</th>\n",
       "      <td>0.04527</td>\n",
       "      <td>0.0</td>\n",
       "      <td>11.93</td>\n",
       "      <td>0.0</td>\n",
       "      <td>0.573</td>\n",
       "      <td>6.120</td>\n",
       "      <td>76.7</td>\n",
       "      <td>2.2875</td>\n",
       "      <td>1.0</td>\n",
       "      <td>273.0</td>\n",
       "      <td>21.0</td>\n",
       "      <td>396.90</td>\n",
       "      <td>9.08</td>\n",
       "    </tr>\n",
       "    <tr>\n",
       "      <th>503</th>\n",
       "      <td>0.06076</td>\n",
       "      <td>0.0</td>\n",
       "      <td>11.93</td>\n",
       "      <td>0.0</td>\n",
       "      <td>0.573</td>\n",
       "      <td>6.976</td>\n",
       "      <td>91.0</td>\n",
       "      <td>2.1675</td>\n",
       "      <td>1.0</td>\n",
       "      <td>273.0</td>\n",
       "      <td>21.0</td>\n",
       "      <td>396.90</td>\n",
       "      <td>5.64</td>\n",
       "    </tr>\n",
       "    <tr>\n",
       "      <th>504</th>\n",
       "      <td>0.10959</td>\n",
       "      <td>0.0</td>\n",
       "      <td>11.93</td>\n",
       "      <td>0.0</td>\n",
       "      <td>0.573</td>\n",
       "      <td>6.794</td>\n",
       "      <td>89.3</td>\n",
       "      <td>2.3889</td>\n",
       "      <td>1.0</td>\n",
       "      <td>273.0</td>\n",
       "      <td>21.0</td>\n",
       "      <td>393.45</td>\n",
       "      <td>6.48</td>\n",
       "    </tr>\n",
       "    <tr>\n",
       "      <th>505</th>\n",
       "      <td>0.04741</td>\n",
       "      <td>0.0</td>\n",
       "      <td>11.93</td>\n",
       "      <td>0.0</td>\n",
       "      <td>0.573</td>\n",
       "      <td>6.030</td>\n",
       "      <td>80.8</td>\n",
       "      <td>2.5050</td>\n",
       "      <td>1.0</td>\n",
       "      <td>273.0</td>\n",
       "      <td>21.0</td>\n",
       "      <td>396.90</td>\n",
       "      <td>7.88</td>\n",
       "    </tr>\n",
       "  </tbody>\n",
       "</table>\n",
       "<p>506 rows × 13 columns</p>\n",
       "</div>"
      ],
      "text/plain": [
       "        CRIM    ZN  INDUS  CHAS    NOX  ...  RAD    TAX  PTRATIO       B  LSTAT\n",
       "0    0.00632  18.0   2.31   0.0  0.538  ...  1.0  296.0     15.3  396.90   4.98\n",
       "1    0.02731   0.0   7.07   0.0  0.469  ...  2.0  242.0     17.8  396.90   9.14\n",
       "2    0.02729   0.0   7.07   0.0  0.469  ...  2.0  242.0     17.8  392.83   4.03\n",
       "3    0.03237   0.0   2.18   0.0  0.458  ...  3.0  222.0     18.7  394.63   2.94\n",
       "4    0.06905   0.0   2.18   0.0  0.458  ...  3.0  222.0     18.7  396.90   5.33\n",
       "..       ...   ...    ...   ...    ...  ...  ...    ...      ...     ...    ...\n",
       "501  0.06263   0.0  11.93   0.0  0.573  ...  1.0  273.0     21.0  391.99   9.67\n",
       "502  0.04527   0.0  11.93   0.0  0.573  ...  1.0  273.0     21.0  396.90   9.08\n",
       "503  0.06076   0.0  11.93   0.0  0.573  ...  1.0  273.0     21.0  396.90   5.64\n",
       "504  0.10959   0.0  11.93   0.0  0.573  ...  1.0  273.0     21.0  393.45   6.48\n",
       "505  0.04741   0.0  11.93   0.0  0.573  ...  1.0  273.0     21.0  396.90   7.88\n",
       "\n",
       "[506 rows x 13 columns]"
      ]
     },
     "execution_count": 5,
     "metadata": {
      "tags": []
     },
     "output_type": "execute_result"
    }
   ],
   "source": [
    "features = pd.DataFrame(boston.data,columns=boston.feature_names)\n",
    "features"
   ]
  },
  {
   "cell_type": "code",
   "execution_count": 0,
   "metadata": {
    "colab": {
     "base_uri": "https://localhost:8080/",
     "height": 402
    },
    "colab_type": "code",
    "id": "hq3yXBV4GinZ",
    "outputId": "5fc2f84c-da7e-42b5-bc44-a3e2bbc8b90f"
   },
   "outputs": [
    {
     "data": {
      "text/html": [
       "<div>\n",
       "<style scoped>\n",
       "    .dataframe tbody tr th:only-of-type {\n",
       "        vertical-align: middle;\n",
       "    }\n",
       "\n",
       "    .dataframe tbody tr th {\n",
       "        vertical-align: top;\n",
       "    }\n",
       "\n",
       "    .dataframe thead th {\n",
       "        text-align: right;\n",
       "    }\n",
       "</style>\n",
       "<table border=\"1\" class=\"dataframe\">\n",
       "  <thead>\n",
       "    <tr style=\"text-align: right;\">\n",
       "      <th></th>\n",
       "      <th>target</th>\n",
       "    </tr>\n",
       "  </thead>\n",
       "  <tbody>\n",
       "    <tr>\n",
       "      <th>0</th>\n",
       "      <td>24.0</td>\n",
       "    </tr>\n",
       "    <tr>\n",
       "      <th>1</th>\n",
       "      <td>21.6</td>\n",
       "    </tr>\n",
       "    <tr>\n",
       "      <th>2</th>\n",
       "      <td>34.7</td>\n",
       "    </tr>\n",
       "    <tr>\n",
       "      <th>3</th>\n",
       "      <td>33.4</td>\n",
       "    </tr>\n",
       "    <tr>\n",
       "      <th>4</th>\n",
       "      <td>36.2</td>\n",
       "    </tr>\n",
       "    <tr>\n",
       "      <th>...</th>\n",
       "      <td>...</td>\n",
       "    </tr>\n",
       "    <tr>\n",
       "      <th>501</th>\n",
       "      <td>22.4</td>\n",
       "    </tr>\n",
       "    <tr>\n",
       "      <th>502</th>\n",
       "      <td>20.6</td>\n",
       "    </tr>\n",
       "    <tr>\n",
       "      <th>503</th>\n",
       "      <td>23.9</td>\n",
       "    </tr>\n",
       "    <tr>\n",
       "      <th>504</th>\n",
       "      <td>22.0</td>\n",
       "    </tr>\n",
       "    <tr>\n",
       "      <th>505</th>\n",
       "      <td>11.9</td>\n",
       "    </tr>\n",
       "  </tbody>\n",
       "</table>\n",
       "<p>506 rows × 1 columns</p>\n",
       "</div>"
      ],
      "text/plain": [
       "     target\n",
       "0      24.0\n",
       "1      21.6\n",
       "2      34.7\n",
       "3      33.4\n",
       "4      36.2\n",
       "..      ...\n",
       "501    22.4\n",
       "502    20.6\n",
       "503    23.9\n",
       "504    22.0\n",
       "505    11.9\n",
       "\n",
       "[506 rows x 1 columns]"
      ]
     },
     "execution_count": 6,
     "metadata": {
      "tags": []
     },
     "output_type": "execute_result"
    }
   ],
   "source": [
    "target = pd.DataFrame(boston.target,columns=['target'])\n",
    "target"
   ]
  },
  {
   "cell_type": "code",
   "execution_count": 0,
   "metadata": {
    "colab": {
     "base_uri": "https://localhost:8080/",
     "height": 34
    },
    "colab_type": "code",
    "id": "FZYTmPSIGnVf",
    "outputId": "2cab4484-20f2-431c-98c4-958545baa89b"
   },
   "outputs": [
    {
     "data": {
      "text/plain": [
       "5.0"
      ]
     },
     "execution_count": 7,
     "metadata": {
      "tags": []
     },
     "output_type": "execute_result"
    }
   ],
   "source": [
    "min(target['target'])"
   ]
  },
  {
   "cell_type": "code",
   "execution_count": 0,
   "metadata": {
    "colab": {
     "base_uri": "https://localhost:8080/",
     "height": 402
    },
    "colab_type": "code",
    "id": "6O8YVwenGvQt",
    "outputId": "7b7a73f3-c8cd-4c0a-81cd-618c7faf7624"
   },
   "outputs": [
    {
     "data": {
      "text/html": [
       "<div>\n",
       "<style scoped>\n",
       "    .dataframe tbody tr th:only-of-type {\n",
       "        vertical-align: middle;\n",
       "    }\n",
       "\n",
       "    .dataframe tbody tr th {\n",
       "        vertical-align: top;\n",
       "    }\n",
       "\n",
       "    .dataframe thead th {\n",
       "        text-align: right;\n",
       "    }\n",
       "</style>\n",
       "<table border=\"1\" class=\"dataframe\">\n",
       "  <thead>\n",
       "    <tr style=\"text-align: right;\">\n",
       "      <th></th>\n",
       "      <th>CRIM</th>\n",
       "      <th>ZN</th>\n",
       "      <th>INDUS</th>\n",
       "      <th>CHAS</th>\n",
       "      <th>NOX</th>\n",
       "      <th>RM</th>\n",
       "      <th>AGE</th>\n",
       "      <th>DIS</th>\n",
       "      <th>RAD</th>\n",
       "      <th>TAX</th>\n",
       "      <th>PTRATIO</th>\n",
       "      <th>B</th>\n",
       "      <th>LSTAT</th>\n",
       "      <th>target</th>\n",
       "    </tr>\n",
       "  </thead>\n",
       "  <tbody>\n",
       "    <tr>\n",
       "      <th>0</th>\n",
       "      <td>0.00632</td>\n",
       "      <td>18.0</td>\n",
       "      <td>2.31</td>\n",
       "      <td>0.0</td>\n",
       "      <td>0.538</td>\n",
       "      <td>6.575</td>\n",
       "      <td>65.2</td>\n",
       "      <td>4.0900</td>\n",
       "      <td>1.0</td>\n",
       "      <td>296.0</td>\n",
       "      <td>15.3</td>\n",
       "      <td>396.90</td>\n",
       "      <td>4.98</td>\n",
       "      <td>24.0</td>\n",
       "    </tr>\n",
       "    <tr>\n",
       "      <th>1</th>\n",
       "      <td>0.02731</td>\n",
       "      <td>0.0</td>\n",
       "      <td>7.07</td>\n",
       "      <td>0.0</td>\n",
       "      <td>0.469</td>\n",
       "      <td>6.421</td>\n",
       "      <td>78.9</td>\n",
       "      <td>4.9671</td>\n",
       "      <td>2.0</td>\n",
       "      <td>242.0</td>\n",
       "      <td>17.8</td>\n",
       "      <td>396.90</td>\n",
       "      <td>9.14</td>\n",
       "      <td>21.6</td>\n",
       "    </tr>\n",
       "    <tr>\n",
       "      <th>2</th>\n",
       "      <td>0.02729</td>\n",
       "      <td>0.0</td>\n",
       "      <td>7.07</td>\n",
       "      <td>0.0</td>\n",
       "      <td>0.469</td>\n",
       "      <td>7.185</td>\n",
       "      <td>61.1</td>\n",
       "      <td>4.9671</td>\n",
       "      <td>2.0</td>\n",
       "      <td>242.0</td>\n",
       "      <td>17.8</td>\n",
       "      <td>392.83</td>\n",
       "      <td>4.03</td>\n",
       "      <td>34.7</td>\n",
       "    </tr>\n",
       "    <tr>\n",
       "      <th>3</th>\n",
       "      <td>0.03237</td>\n",
       "      <td>0.0</td>\n",
       "      <td>2.18</td>\n",
       "      <td>0.0</td>\n",
       "      <td>0.458</td>\n",
       "      <td>6.998</td>\n",
       "      <td>45.8</td>\n",
       "      <td>6.0622</td>\n",
       "      <td>3.0</td>\n",
       "      <td>222.0</td>\n",
       "      <td>18.7</td>\n",
       "      <td>394.63</td>\n",
       "      <td>2.94</td>\n",
       "      <td>33.4</td>\n",
       "    </tr>\n",
       "    <tr>\n",
       "      <th>4</th>\n",
       "      <td>0.06905</td>\n",
       "      <td>0.0</td>\n",
       "      <td>2.18</td>\n",
       "      <td>0.0</td>\n",
       "      <td>0.458</td>\n",
       "      <td>7.147</td>\n",
       "      <td>54.2</td>\n",
       "      <td>6.0622</td>\n",
       "      <td>3.0</td>\n",
       "      <td>222.0</td>\n",
       "      <td>18.7</td>\n",
       "      <td>396.90</td>\n",
       "      <td>5.33</td>\n",
       "      <td>36.2</td>\n",
       "    </tr>\n",
       "    <tr>\n",
       "      <th>...</th>\n",
       "      <td>...</td>\n",
       "      <td>...</td>\n",
       "      <td>...</td>\n",
       "      <td>...</td>\n",
       "      <td>...</td>\n",
       "      <td>...</td>\n",
       "      <td>...</td>\n",
       "      <td>...</td>\n",
       "      <td>...</td>\n",
       "      <td>...</td>\n",
       "      <td>...</td>\n",
       "      <td>...</td>\n",
       "      <td>...</td>\n",
       "      <td>...</td>\n",
       "    </tr>\n",
       "    <tr>\n",
       "      <th>501</th>\n",
       "      <td>0.06263</td>\n",
       "      <td>0.0</td>\n",
       "      <td>11.93</td>\n",
       "      <td>0.0</td>\n",
       "      <td>0.573</td>\n",
       "      <td>6.593</td>\n",
       "      <td>69.1</td>\n",
       "      <td>2.4786</td>\n",
       "      <td>1.0</td>\n",
       "      <td>273.0</td>\n",
       "      <td>21.0</td>\n",
       "      <td>391.99</td>\n",
       "      <td>9.67</td>\n",
       "      <td>22.4</td>\n",
       "    </tr>\n",
       "    <tr>\n",
       "      <th>502</th>\n",
       "      <td>0.04527</td>\n",
       "      <td>0.0</td>\n",
       "      <td>11.93</td>\n",
       "      <td>0.0</td>\n",
       "      <td>0.573</td>\n",
       "      <td>6.120</td>\n",
       "      <td>76.7</td>\n",
       "      <td>2.2875</td>\n",
       "      <td>1.0</td>\n",
       "      <td>273.0</td>\n",
       "      <td>21.0</td>\n",
       "      <td>396.90</td>\n",
       "      <td>9.08</td>\n",
       "      <td>20.6</td>\n",
       "    </tr>\n",
       "    <tr>\n",
       "      <th>503</th>\n",
       "      <td>0.06076</td>\n",
       "      <td>0.0</td>\n",
       "      <td>11.93</td>\n",
       "      <td>0.0</td>\n",
       "      <td>0.573</td>\n",
       "      <td>6.976</td>\n",
       "      <td>91.0</td>\n",
       "      <td>2.1675</td>\n",
       "      <td>1.0</td>\n",
       "      <td>273.0</td>\n",
       "      <td>21.0</td>\n",
       "      <td>396.90</td>\n",
       "      <td>5.64</td>\n",
       "      <td>23.9</td>\n",
       "    </tr>\n",
       "    <tr>\n",
       "      <th>504</th>\n",
       "      <td>0.10959</td>\n",
       "      <td>0.0</td>\n",
       "      <td>11.93</td>\n",
       "      <td>0.0</td>\n",
       "      <td>0.573</td>\n",
       "      <td>6.794</td>\n",
       "      <td>89.3</td>\n",
       "      <td>2.3889</td>\n",
       "      <td>1.0</td>\n",
       "      <td>273.0</td>\n",
       "      <td>21.0</td>\n",
       "      <td>393.45</td>\n",
       "      <td>6.48</td>\n",
       "      <td>22.0</td>\n",
       "    </tr>\n",
       "    <tr>\n",
       "      <th>505</th>\n",
       "      <td>0.04741</td>\n",
       "      <td>0.0</td>\n",
       "      <td>11.93</td>\n",
       "      <td>0.0</td>\n",
       "      <td>0.573</td>\n",
       "      <td>6.030</td>\n",
       "      <td>80.8</td>\n",
       "      <td>2.5050</td>\n",
       "      <td>1.0</td>\n",
       "      <td>273.0</td>\n",
       "      <td>21.0</td>\n",
       "      <td>396.90</td>\n",
       "      <td>7.88</td>\n",
       "      <td>11.9</td>\n",
       "    </tr>\n",
       "  </tbody>\n",
       "</table>\n",
       "<p>506 rows × 14 columns</p>\n",
       "</div>"
      ],
      "text/plain": [
       "        CRIM    ZN  INDUS  CHAS    NOX  ...    TAX  PTRATIO       B  LSTAT  target\n",
       "0    0.00632  18.0   2.31   0.0  0.538  ...  296.0     15.3  396.90   4.98    24.0\n",
       "1    0.02731   0.0   7.07   0.0  0.469  ...  242.0     17.8  396.90   9.14    21.6\n",
       "2    0.02729   0.0   7.07   0.0  0.469  ...  242.0     17.8  392.83   4.03    34.7\n",
       "3    0.03237   0.0   2.18   0.0  0.458  ...  222.0     18.7  394.63   2.94    33.4\n",
       "4    0.06905   0.0   2.18   0.0  0.458  ...  222.0     18.7  396.90   5.33    36.2\n",
       "..       ...   ...    ...   ...    ...  ...    ...      ...     ...    ...     ...\n",
       "501  0.06263   0.0  11.93   0.0  0.573  ...  273.0     21.0  391.99   9.67    22.4\n",
       "502  0.04527   0.0  11.93   0.0  0.573  ...  273.0     21.0  396.90   9.08    20.6\n",
       "503  0.06076   0.0  11.93   0.0  0.573  ...  273.0     21.0  396.90   5.64    23.9\n",
       "504  0.10959   0.0  11.93   0.0  0.573  ...  273.0     21.0  393.45   6.48    22.0\n",
       "505  0.04741   0.0  11.93   0.0  0.573  ...  273.0     21.0  396.90   7.88    11.9\n",
       "\n",
       "[506 rows x 14 columns]"
      ]
     },
     "execution_count": 8,
     "metadata": {
      "tags": []
     },
     "output_type": "execute_result"
    }
   ],
   "source": [
    "df = pd.concat([features,target],axis=1)\n",
    "df"
   ]
  },
  {
   "cell_type": "code",
   "execution_count": 0,
   "metadata": {
    "colab": {},
    "colab_type": "code",
    "id": "jRY7IiJ4Gxit"
   },
   "outputs": [],
   "source": [
    "corr = df.corr('pearson')"
   ]
  },
  {
   "cell_type": "code",
   "execution_count": 0,
   "metadata": {
    "colab": {},
    "colab_type": "code",
    "id": "f-u6RJeuG_gK"
   },
   "outputs": [],
   "source": [
    "corrs = [abs(corr[attr]['target'])for attr in list(features)]"
   ]
  },
  {
   "cell_type": "code",
   "execution_count": 0,
   "metadata": {
    "colab": {},
    "colab_type": "code",
    "id": "xgImwvYIHCvi"
   },
   "outputs": [],
   "source": [
    "l = list(zip(corrs,list(features)))"
   ]
  },
  {
   "cell_type": "code",
   "execution_count": 0,
   "metadata": {
    "colab": {},
    "colab_type": "code",
    "id": "feTLRvwiHFTM"
   },
   "outputs": [],
   "source": [
    "#sort a list of pairs in reverse order/descending order\n",
    "#with the correlation value as the key for sorting\n",
    "l.sort(key = lambda x: x[0],reverse= True)\n",
    "\n",
    "#unzip pairs to two lists\n",
    "#zip is an inbuild function in python that allows to combine multiple lists\n",
    "corrs,labels = list(zip((*l)))\n"
   ]
  },
  {
   "cell_type": "code",
   "execution_count": 0,
   "metadata": {
    "colab": {
     "base_uri": "https://localhost:8080/",
     "height": 334
    },
    "colab_type": "code",
    "id": "zdg4QLBvHHRe",
    "outputId": "6bd3ddde-00ef-4905-a91b-029e8cd8b734"
   },
   "outputs": [
    {
     "data": {
      "image/png": "[encoded data removed]",
      "text/plain": [
       "<Figure size 1080x360 with 1 Axes>"
      ]
     },
     "metadata": {
      "needs_background": "light",
      "tags": []
     },
     "output_type": "display_data"
    }
   ],
   "source": [
    "\n",
    "index = np.arange (len(labels))\n",
    "plt.figure(figsize=(15,5))\n",
    "plt.bar(index , corrs ,width=0.5)\n",
    "plt.xlabel('Atributes')\n",
    "plt.ylabel('Correlation with the target variable')\n",
    "plt.xticks(index,labels)\n",
    "plt.show()\n"
   ]
  },
  {
   "cell_type": "code",
   "execution_count": 0,
   "metadata": {
    "colab": {},
    "colab_type": "code",
    "id": "sBGFaW3MHJSo"
   },
   "outputs": [],
   "source": [
    "X = df[\"LSTAT\"].values\n",
    "Y = df['target'].values"
   ]
  },
  {
   "cell_type": "code",
   "execution_count": 0,
   "metadata": {
    "colab": {
     "base_uri": "https://localhost:8080/",
     "height": 34
    },
    "colab_type": "code",
    "id": "4iw7k9ZwHMFc",
    "outputId": "a1d86897-b64f-411f-ed2f-ad940805dfc5"
   },
   "outputs": [
    {
     "name": "stdout",
     "output_type": "stream",
     "text": [
      "[24.  21.6 34.7 33.4 36.2]\n"
     ]
    }
   ],
   "source": [
    "print(Y[:5])\n"
   ]
  },
  {
   "cell_type": "code",
   "execution_count": 0,
   "metadata": {
    "colab": {},
    "colab_type": "code",
    "id": "zm00ItrUHPj9"
   },
   "outputs": [],
   "source": [
    "\n",
    "x_scaler  = MinMaxScaler()\n",
    "X = x_scaler.fit_transform(X.reshape(-1,1))"
   ]
  },
  {
   "cell_type": "code",
   "execution_count": 0,
   "metadata": {
    "colab": {},
    "colab_type": "code",
    "id": "JtB0cv7OHR06"
   },
   "outputs": [],
   "source": [
    "y_scaler = MinMaxScaler()\n",
    "Y = y_scaler.fit_transform(Y.reshape(-1,1))"
   ]
  },
  {
   "cell_type": "code",
   "execution_count": 0,
   "metadata": {
    "colab": {
     "base_uri": "https://localhost:8080/",
     "height": 101
    },
    "colab_type": "code",
    "id": "a-5pZ5t_HUSG",
    "outputId": "1b6dfc7d-7658-4ffc-fe8a-7c72101a7e47"
   },
   "outputs": [
    {
     "name": "stdout",
     "output_type": "stream",
     "text": [
      "[[0.42222222]\n",
      " [0.36888889]\n",
      " [0.66      ]\n",
      " [0.63111111]\n",
      " [0.69333333]]\n"
     ]
    }
   ],
   "source": [
    "print(Y[:5])"
   ]
  },
  {
   "cell_type": "code",
   "execution_count": 0,
   "metadata": {
    "colab": {},
    "colab_type": "code",
    "id": "LxdV00V9HWxy"
   },
   "outputs": [],
   "source": [
    "def error(m , x , c , t):\n",
    "  N = x.size\n",
    "  e = sum(((m * x + c) - t) ** 2)\n",
    "  return e* 1/(2 * N)"
   ]
  },
  {
   "cell_type": "code",
   "execution_count": 0,
   "metadata": {
    "colab": {},
    "colab_type": "code",
    "id": "jZXfZGTHHZA4"
   },
   "outputs": [],
   "source": [
    "x_train, x_test,y_train,y_test = train_test_split(X,Y,test_size=0.2)"
   ]
  },
  {
   "cell_type": "code",
   "execution_count": 0,
   "metadata": {
    "colab": {},
    "colab_type": "code",
    "id": "1sXrK_fVHbCU"
   },
   "outputs": [],
   "source": [
    "def error(m,x,c,t):\n",
    "  N = x.size\n",
    "  e = sum(((m * x + c) - t) ** 2)\n",
    "  return e* 1/(2 * N)"
   ]
  },
  {
   "cell_type": "code",
   "execution_count": 0,
   "metadata": {
    "colab": {},
    "colab_type": "code",
    "id": "AWrgZQv8HePZ"
   },
   "outputs": [],
   "source": [
    "def update(m , x , c , t , learning_rate):\n",
    "  grad_m = sum(2 * (( m * x + c )- t)*x)\n",
    "  grad_c = sum(2 * (( m * x + c) - t))\n",
    "  m = m - grad_m * learning_rate\n",
    "  c = c - grad_c * learning_rate\n",
    "  return m ,c"
   ]
  },
  {
   "cell_type": "code",
   "execution_count": 0,
   "metadata": {
    "colab": {},
    "colab_type": "code",
    "id": "7QxvSBcXHhMa"
   },
   "outputs": [],
   "source": [
    "\n",
    "def gradient_descent(init_m,init_c,x,t,learing_rate,iterations,error_threshold):\n",
    "  m = init_m\n",
    "  c = init_c\n",
    "  error_values = list()\n",
    "  mc_values = list()\n",
    "  for i in range(iterations):\n",
    "    e = error(m,x,c,t)\n",
    "    if e < error_threshold:\n",
    "      print('Error less than the threshold , stopping gradint descent ')\n",
    "      break\n",
    "    error_values.append(e)\n",
    "    m , c=update(m,x,c,t,learning_rate)\n",
    "    mc_values.append((m,c))\n",
    "  return m , c, error_values, mc_values"
   ]
  },
  {
   "cell_type": "code",
   "execution_count": 0,
   "metadata": {
    "colab": {
     "base_uri": "https://localhost:8080/",
     "height": 50
    },
    "colab_type": "code",
    "id": "rxulHwjcHjPa",
    "outputId": "6f3a20df-bd60-4ac5-d895-e8490cd88a80"
   },
   "outputs": [
    {
     "name": "stdout",
     "output_type": "stream",
     "text": [
      "CPU times: user 3 µs, sys: 0 ns, total: 3 µs\n",
      "Wall time: 5.72 µs\n"
     ]
    }
   ],
   "source": [
    "%%time\n",
    "init_m = 0.9\n",
    "init_c = 0\n",
    "learning_rate = 0.001\n",
    "iterations = 250\n",
    "error_threshold = 0.001"
   ]
  },
  {
   "cell_type": "code",
   "execution_count": 0,
   "metadata": {
    "colab": {},
    "colab_type": "code",
    "id": "tz1hjz80HmOQ"
   },
   "outputs": [],
   "source": [
    "m ,c ,error_values,mc_values = gradient_descent(init_m, init_c, x_train, y_train, learning_rate, iterations,error_threshold)"
   ]
  },
  {
   "cell_type": "code",
   "execution_count": 0,
   "metadata": {
    "colab": {
     "base_uri": "https://localhost:8080/",
     "height": 282
    },
    "colab_type": "code",
    "id": "YOadiKKbIfi_",
    "outputId": "cbe03957-5f33-41a5-86ad-94539ee0b8d1"
   },
   "outputs": [
    {
     "data": {
      "text/plain": [
       "[<matplotlib.lines.Line2D at 0x7f1f75752f60>]"
      ]
     },
     "execution_count": 26,
     "metadata": {
      "tags": []
     },
     "output_type": "execute_result"
    },
    {
     "data": {
      "image/png": "[encoded data removed]",
      "text/plain": [
       "<Figure size 432x288 with 1 Axes>"
      ]
     },
     "metadata": {
      "needs_background": "light",
      "tags": []
     },
     "output_type": "display_data"
    }
   ],
   "source": [
    "\n",
    "plt.scatter(x_train , y_train , color='b')\n",
    "plt.plot(x_train , (m * x_train + c) , color= 'r')"
   ]
  },
  {
   "cell_type": "code",
   "execution_count": 0,
   "metadata": {
    "colab": {
     "base_uri": "https://localhost:8080/",
     "height": 296
    },
    "colab_type": "code",
    "id": "5GLXmuKiIiQt",
    "outputId": "6e5546a9-8cb7-4f66-b6e9-09cc39e7ac74"
   },
   "outputs": [
    {
     "data": {
      "text/plain": [
       "Text(0.5, 0, 'Iterations')"
      ]
     },
     "execution_count": 27,
     "metadata": {
      "tags": []
     },
     "output_type": "execute_result"
    },
    {
     "data": {
      "image/png": "[encoded data removed]",
      "text/plain": [
       "<Figure size 432x288 with 1 Axes>"
      ]
     },
     "metadata": {
      "needs_background": "light",
      "tags": []
     },
     "output_type": "display_data"
    }
   ],
   "source": [
    "plt.plot(np.arange(len(error_values)),error_values)\n",
    "plt.ylabel('Error')\n",
    "plt.xlabel('Iterations')"
   ]
  },
  {
   "cell_type": "code",
   "execution_count": 0,
   "metadata": {
    "colab": {},
    "colab_type": "code",
    "id": "R3jpkHlgIlf8"
   },
   "outputs": [],
   "source": [
    "mc_values_anim = mc_values[0:250:5]"
   ]
  },
  {
   "cell_type": "code",
   "execution_count": 0,
   "metadata": {
    "colab": {
     "base_uri": "https://localhost:8080/",
     "height": 561
    },
    "colab_type": "code",
    "id": "f9Fmu1sWInxJ",
    "outputId": "526433f4-b585-4223-f664-120de3ccb466"
   },
   "outputs": [
    {
     "data": {
      "text/html": [
       "<video width=\"432\" height=\"288\" controls autoplay loop>\n",
       "  <source type=\"video/mp4\" src=\"data:video/mp4;base64,AAAAHGZ0eXBNNFYgAAACAGlzb21pc28yYXZjMQAAAAhmcmVlAACXqm1kYXQAAAKtBgX//6ncRem9\n",
       "5tlIt5Ys2CDZI+7veDI2NCAtIGNvcmUgMTUyIHIyODU0IGU5YTU5MDMgLSBILjI2NC9NUEVHLTQg\n",
       "QVZDIGNvZGVjIC0gQ29weWxlZnQgMjAwMy0yMDE3IC0gaHR0cDovL3d3dy52aWRlb2xhbi5vcmcv\n",
       "eDI2NC5odG1sIC0gb3B0aW9uczogY2FiYWM9MSByZWY9MyBkZWJsb2NrPTE6MDowIGFuYWx5c2U9\n",
       "MHgzOjB4MTEzIG1lPWhleCBzdWJtZT03IHBzeT0xIHBzeV9yZD0xLjAwOjAuMDAgbWl4ZWRfcmVm\n",
       "PTEgbWVfcmFuZ2U9MTYgY2hyb21hX21lPTEgdHJlbGxpcz0xIDh4OGRjdD0xIGNxbT0wIGRlYWR6\n",
       "b25lPTIxLDExIGZhc3RfcHNraXA9MSBjaHJvbWFfcXBfb2Zmc2V0PS0yIHRocmVhZHM9MyBsb29r\n",
       "YWhlYWRfdGhyZWFkcz0xIHNsaWNlZF90aHJlYWRzPTAgbnI9MCBkZWNpbWF0ZT0xIGludGVybGFj\n",
       "ZWQ9MCBibHVyYXlfY29tcGF0PTAgY29uc3RyYWluZWRfaW50cmE9MCBiZnJhbWVzPTMgYl9weXJh\n",
       "bWlkPTIgYl9hZGFwdD0xIGJfYmlhcz0wIGRpcmVjdD0xIHdlaWdodGI9MSBvcGVuX2dvcD0wIHdl\n",
       "aWdodHA9MiBrZXlpbnQ9MjUwIGtleWludF9taW49NSBzY2VuZWN1dD00MCBpbnRyYV9yZWZyZXNo\n",
       "PTAgcmNfbG9va2FoZWFkPTQwIHJjPWNyZiBtYnRyZWU9MSBjcmY9MjMuMCBxY29tcD0wLjYwIHFw\n",
       "bWluPTAgcXBtYXg9NjkgcXBzdGVwPTQgaXBfcmF0aW89MS40MCBhcT0xOjEuMDAAgAAAKfdliIQA\n",
       "E//+97GPgU3IAA2XOop6H+EVsfSQUXqx2aBk6gAAAwAAiYH638JRwsQHwht3BudId0Uq2fQAIbty\n",
       "qmwF8gX0LLzk2vyiTGtHdrlUU0pvR9E1IWLAAGdLElzm0F+YKb0MJhE+T2NumtX7TTF8pigVhe0e\n",
       "r977kTqG3rWhSuI4WldWhyiZMW2mxwklk9u21aQfI9h6ATTXzRwEwGZa3zZxtFyLCSx6LKotsfAE\n",
       "GgboxzYNWZoBRvyvZUhDEv627X7grUqzVh94hppQFJHqkzs+H3Gp3FadkSRUaXqz4KgAYQ+1NAJ3\n",
       "ziLiYu4VnJkUqwCUJzew02w2VXbkEMplXL4FH3MOINjcP/4oZIlg4aPt0OG/kdG/GKtrqn+Xm4Rb\n",
       "3dlQy1eEv0OcnOr8c1dMoFuv2K1HRhcqMdLRhlY3mPsrL4v5HAN1Z3+Uvlxt6u4GB25E7QbH0l0i\n",
       "++/IYMBi30oe+tqfWzEtXOtLWdSiLnzghbTLQEuS1LUCziQjPReX6xqUoRN0HHCo1E6F07Rl+jod\n",
       "LwVKi0WncMu0Gh5gN2cirr8A4X3s9M9Lye3Vn57FmWz+9KzYchCFq1OXOhlILJpYq71gqXzkZqdo\n",
       "p8qXBeq/eMU3ALSb5mWnC5fmlpIyKUGAMGL+Wc/nmG9nMATtaY0lJ4ytXY4712srkg7hA4k5E1R3\n",
       "cHBSUv3eMCMby45aXmiTG8qDseXelLNpRzuYf4s5DQ3KohM8ECi/Xr7Zxph1iC7ywGWmdq48BxdE\n",
       "+WbNJtJAN+5sdrRO1bSR4SAGCARfmT9fjdnyqV9vqWiFncdFMqYyj+lZv52ImJR3/hfos+pgQPei\n",
       "rimAO4HBBE5+zmQzyJoRFXiwAAz7vQol0MnzZmOLrNU2U5Z+Ik2XAQ9aeshOdDtqzpkgdXrxF2x+\n",
       "FqTj6FcRwNqn8WFQf2WqlWv0RF+RNyBt1yJcPwjGWcSchA5IDZXRUadF6q2OyilbmBTfcdfTxxk3\n",
       "7mxIx4Dw2CB54T5WSSml2nVQ4cEHZsBCPSCHHScBph3Xx45L8K4tXfYYfgmFqXGpO9/8SPJKIWAi\n",
       "56Ux2kJ5gqMdv+tldsTL2wbK/pGb3XZqvs5wbC5LVd4FIFsRPg1XmsAlzh+CULUseJh3rCN/GFs1\n",
       "ydoFkn4Oqf/iRMAAuxRWGn7GZKI9x1lIcXg/osOVrflG1kDugt5TPDfCU+yFSPEeYJ2F/zYNAkS7\n",
       "0Abal9v+lQFAJYwnVHlAQvU3J8Y2roR5/oLxxfSjYuXvLdGGl/lKsN2W/uvHctUTKtJquDWcS0d4\n",
       "C6PgWEHE5+L4IJuqYQN5Mfb30PRVRCHTJ9G3hXr5j7dwDySbEPX+o4BDNcK225QpGCMrd0srWytY\n",
       "8n4rqKoI/dEeO7v4iZwkh7vI7XOlpl8ObztfoBMbpB52bfiXioB/PYsmkMA9jft5kSGJ+iJYlmT+\n",
       "3JdF3vy5lMS3qFhHgbTQmNdedPJ/mujlq81LITfg3CLQUl6f7uxATySVpwz/P+8Ofd2pY4leKUl1\n",
       "P9zL3hwopd8729FSq65zXqU9eTRKNiMllvb3TZAyuZwa4EDMUd2Bvknu9r1QZZCYuCgIKcvOZCs3\n",
       "dp8eo5RfSEevVpIi7hvLLeUI36AVHQgWCzQtmzKcUz3OCG//4DjvvLf4FVkN21r7hocNRX7tl2zS\n",
       "C392JeKQvbKE8BFqXywTArCHjpeka8GpWRR+FslMvWlAeL6Lu+yuDLGFjJukz7xVVFILgu2wjJSB\n",
       "ft4+CGqCWor8bicFCi0aJb2+qR4vdiTWORgiAp38l0opPuhVWvIL1PvnCd3IqgCxhbWsDHTnGFma\n",
       "bgQkEAhoXj9ivwjRq/yEDZNe62BPKchvOj+xLlDD4eY2dEbwQkHOzXHW5xPFpT5tUI0BPAVqCzvb\n",
       "qyM9StvBkdeCsxa+zCq6vlYj11bjoPj2VGkm/9OjGpG/2G47BRANEygBpRezNeYqiZ6J4QhZc2J6\n",
       "+vdrUcrGlmf/V++OTqby+8JWAir9pY91EApNSgLHEj5rq1EWRgkt/7Rh6PfwysC6IK+dhjVa3KPb\n",
       "7gs4PQBtITHnjayL50kWaS0YoIp6Rl0eqwFr9Fvo3F2uMW934hgAdx3RmA9bHgr9FOzbFF8mkBOG\n",
       "bKARGSGlbTSMo4bKjFKIzOWjACerqxbOBZOaeVcI4luJMTgQhqvPI1JvFfIgjpZB9qtU/2FYgrCy\n",
       "vAVV8napm80vH2YzlIYw34fKQPvKgG9Z1cdfGIdKM9E3RNure15R3MycFJFEAv2YkvYZyG2KYWHP\n",
       "PdCS5GfqPOcvuvjvEzT6SUAN8cdIt37UxfBaUwukwRfPGYnx2jSsmAdWu4rJ9Dk5DnpZ5gwR0ZGE\n",
       "E/6C07AlQOPfRn7aqBgR9PLrnD0shATQ/C+1egjpcrW7XLD+kXxbxTXWIGwWv3TyP/hoSy2OlenQ\n",
       "4Nx1KLm57Spino1k7GMJDrJ62KsypMlYgDeclnj6G/ZrReCM6z3+jVnUukdjiKYqh+amxLmFn3pz\n",
       "bTkyajCxgrXLzXvh+Nj+/MxSLo8dXhRSNRHV6o+4CCbN+j7ZqyrT0LrPyrpgWv7ABACTMrK0u6NJ\n",
       "wxQmVGH3zBj1y/bD4+76zx5wOq5QM4gvEM3xj0wQ35zLS7lhjJ52OtOrnh75gvuSLwsbWV7JQaRw\n",
       "pKPVKYJ8bRf2ddnm6FR0iRQj2qDEv+YMiOoTa20NpbxYch1ptIlPxwHJ0MYn4UMbTkwx58Q9YbgN\n",
       "bcXoaFLPh6blvBUq3e0bceGxDd/75uTCRBPR3W93bV1NuEG1XZcISXmrKUCQuTUeuz2psxbm6Gtj\n",
       "XW11mbaf12Krb1rLZh1zcUC2eVSoS2sqsoc+9LgtYwHclaa39U4QiY471VNvv2HyrpFA6ibBh1ib\n",
       "P3vd+EdbN714jieY4xu98HVG53iVlqw4QjCsi2RrcMflPRb3oHn4VwoGauoo9xHCOo3VBhQ1IIR9\n",
       "ZxOstPkTX/tdmB2GZY6dxfUxxP6t4TT5/gRMcG7co0z6WaXFPrjhg7A4rnVHi88KhXr8GT9kld3w\n",
       "k64H6ywVleXhzlZx/OryIhrYm8kJD1WbtypCqLfJLTcjAvu/ybUGH3Vxwt1fshUALHzWTDsPbqVM\n",
       "Xc1WjfZsTHC9sYOU3jj5lhCtHPtBQu9owJE1hfjgxxRfQcCLBs8wNCvbGuGXeLiOzXANZYsMlK0n\n",
       "OS6L01k5zyBBGt00fV1KJt8bB1Wg4mvV2HnH2Umz6whQOgYJgsHgImLQ4YCqJJ+CeWRaxLET3sHB\n",
       "yI0domWZw4VsGZ0SaBgIYdO1C5yel9Q1BuY7CELfAray1vwjecbBwZEqHilxDozJUVHfNcbcmAKT\n",
       "iRbP+circ24Mgb46cEF9bB/+inAXzYQRP1RpHf5L+hz5LXu/WvkkYWjTMNYHWnZ8ULsR1xq2C1kZ\n",
       "MrY+ewF0WefE6Rrm+hgkjpyv/iYKsoF7tDJ+sWSRGL4tbIPQ56ZUwy03AslTuf2f0wAVqfAQL7FV\n",
       "MkE+HvRzNidhA6xaLS7kKkegK6N+kMwSPstQnzGvPcxQFWLcCNoJLxx0qAj7gJ7zXkrzDVN2CROh\n",
       "Da3guG+XACABLtorrf4Sdu242nYAcz8vc9oxl4Uf4LdV92OouDHzs7LliX6I40wjEaJT2EgJveI4\n",
       "PvZB0g+0RH5yZrGg1dAVc/Tqgv1Qvkv8LGgzg9cS6uxEtZutfeVDw6tOqcYoX5SsBq1HJOZ8GIIg\n",
       "Uv+RxKQYCfcyiKv3ScXYSyBqQygXpNeaQ2XHC9PNHlCEacvyC17cWrI+34nqoDNQ48Uq7+OOKace\n",
       "uEctkMh3DDhzC8KuS1SM60wYtmHNqbfxN5ATS5hZ7hnOHxkTTSvq7lDa7miqIFV9LmlqeAmgSDuW\n",
       "MgJOSVyWnnqNWjVO1jB3dj3+fwzB0/3xfoGNsQAP4Y+X2EZO8irxUpatC8Z2o6rRFRFVl1Y+TTu+\n",
       "uwLgR5ZAklDlhG2vHx3UBWOnch0fd0qX4nZ8srphJNf5aAC5R6I6jH2Pvq2S4reKYUTNoSH+oZ2U\n",
       "SKQRvknr7aoT8NYhPPmxgbZZcLoRHpdr3dqs45Y0Cxg4LTOT8RhzNRqSLPyhKwHKb9r5rMRARBFu\n",
       "SSaG+aA6aZ4mCK08VsM7+smJK0VRNo5m4rbu0ph14g7//if3M/2Xf3+69P/I9wmdbN+OjagvxB7o\n",
       "YNs0zvRVX0oxD+LZ7gjpQ0HO47isYHkWT4EQ3u30oG1lsoNfMjZ7MwiBheB3W8DeWCkXtSkVZ7s+\n",
       "XEceEuZ73rZotWKP0UBdKYGnn+fl685SjRoc09gjri5teobwMtfdT/0oKlggm131zHyO5LhBi/s6\n",
       "ttxAecYZDP35gTtel9fO5rJ0DX9n4SDis7sSVi9GW1BETZ/6rTIf2yfTx34TT5c+JW42tu1s+H4x\n",
       "XVVIs9AA30RapS5aKa1klKOemHLh0LfHt99ZkGt9ySt+eFsBGzZ+BBcOVVj9UXpAoKepx9CEEyKZ\n",
       "BEER4sQYFNJDdMORHJ8ACN256UI4Ccc4a33/KjSvi0xytkzgIZju0OZ5GuACOBJqKrCWIzg90vjw\n",
       "i2fRZJOfd8s3u0X+YWF/akG9rBesGfZLAwmsq9jRuN0S4sos8tOHwIS98Wv2PhbtrpaPrAQSPXj8\n",
       "WW688p3vSbRXvxPocmNCRWJLtAamL711ZoPLxMtnLF1gbww0GnnktcOSJgWM6Uc8ar3JcOOeWwep\n",
       "HoF2eAr95bF3vHT/mfZn5dMqHHyDIGXx3m8YcOKJtTgYjjbQrWK9W022aA3az2/CS3DotLqlLdU1\n",
       "pY44m1iEa55BIc1ezeWNst6/2wHjXBSTZHlwHHL4CtU+4HVpKiqrM7PxIZv3wUVIhkOZmwskANWj\n",
       "3GKRorgAmZFh2oeWLISaPPihfjZWjnxxruBucgoIKblL3FZM8W4jkt6PeoFuCoOSpW/mwMmWxyyv\n",
       "cT5x8nB4AIT4jgwIyq+8S7FefS6ZAwfVsJe/MZVGFSyAJ7dukaT/4pfY2MsDohDZBGImTeUePb/i\n",
       "Q42SLw/WSkrWKkEw5QtRxJxRwj2OEMmSn7gxSYXVxL4fes+pngK6nHYhGCFhRnk2CfcmcIMtuMr9\n",
       "lbmMSlJpASFs5e2stYTFMSvwRwgwCBN3wXHx1QcQfnzzPPhWfXJ2n16UGhihNQZXo6bQ9Tf+1mbE\n",
       "yhJKSlJBGQ9bbhNyEkRiLqw36RWuKQMpYagJWAP6+ivR5wEdE4gXbUz2ulzpkDZeOx7RXM7kt036\n",
       "lzsfyyGpRCehli9z8BqekfGTy6+1Fep8z1wfMlRJGU2fJ6N1VLGszJFJoaqhyrJ3thCat4xqldbv\n",
       "zeeYjHEXQl9c9Fe/R56FrDSnkgAl4DL2lVf6fVe/JCiruMWLIU2vd5GJuJn6DNDz7iVSth2ojnaP\n",
       "OXPDdNvY9UiTIDtCtbTv9pV8RKO/lYU4wjyCXoDEVM41JlVV87Y6x3wukFrv6JYmBbqEBtPYJS2N\n",
       "E8j/coqyVswVvebnqqCvSig0P/F/6oFpzB4KMN/l9l5OKnH9HdX/hj1XRZZLk4JGaPWhA9QI8m2L\n",
       "ieF4ieUSHV81FF6A7BmTzUJRZ7xKaOMEYbuak0xHYc7x28sHmDAhcECOV3bt4DaDiZ/+YMb/8U3B\n",
       "H8cduL6geA6ysSBER8CnC+cMY41fzRmoAw5TwoKu+dkkKCuJEoYHfhzxxLbtafARCeGiYHrEdVou\n",
       "XiiRFWLJCtoQH7Fa1Z9I4u/b7v2sJphKLKh6QO7YifQGngX0dDchFUpqaMNw3sT0x+6kCSBXLeFk\n",
       "xAQxUTnc74FpncSlKzvwOboxMieXtUndBbuvVE9AnDIBaR/wbc6mhjq+Fg3AE1vQVUEG2cl8E6pg\n",
       "PGcITmfDc3gV0qEnqIUN2LWM7O1SUo9DcmXbhltQB7F6phfJjon22C8jEFPd41n1eyuA+l+mLZLr\n",
       "oQtysBCeSU5a7Wb4e8vdYIapzKqKWJIdZkogYDcwZf0X11196mshGLj4AKQcqhTzzF6fimY8Bbbn\n",
       "MjOPT4ZViBFFCkdD3p6psa/46t2swyMh1JqMiE0ECM72KzQ5OKTPPmgp3dZvkDpXBxgwc1JeiMtO\n",
       "EVjyBN+IKaKRQ+b44/kmZfUgHZQWqR5mUdcUgOiChyS6pAxd+siBhZCeOVsLOTjUldnpBESXD8s7\n",
       "wICUpc/mkz3/gX4Fe3d2hOt47QEP4plPtuDIvytmvhtjYOSSaq44XCWCs6nD6bgk4vukhzvsOIMK\n",
       "3gdVbclZhdilrEG0FMa23GpupPv5IhYNLMWqWc/E0rt0nf0WQzAPH4AUCPDHCBZP+3aF+GCFmkks\n",
       "l/2J2Ud9htydlyHV0F9T/IoCt/0HskLTRn+HzjRz6z1tWlIiv/XlXQWIXDoQfq/duslzWzNvfg5q\n",
       "uIAR+CmZ4BjMG1xnXohx3y0sq6/war5ym3Z9GoxUBLBucCvy6wvx+6xk7Q5+aRQyfzu9gVe8kuzX\n",
       "ugKc6TfW6z8SIpF9NF0rW/Huq+7kklGeewcb/g9im3pWpCcanfbc3M/9+E5k4hYPchascpqZhjDh\n",
       "83+5LpeP2hDsdc1hwCvUVtoX9+ExQclQIhrmSkNecZcv7lc8xOcdZGplKAceKJsqff7FT6dD3UQJ\n",
       "8gAVOejtbvi8ZLOfoHeK6QN5N6HpowWY/1TQ5uTaqYVKf17lqorcKkv1Pxnz3bsRN4Mm+zej/B/g\n",
       "eayy0wjMZE9WvMoCNLc7957L1F0+TIU1SAjwKo3nw1cu2mdGj1i/GcMWP5eF5hLyswx+uBgnl+/p\n",
       "EzffBqRFLwCV6SnJNVbPdya3idxBAVm3MiLYKPNh2XFtQ6z7QOzMMe0x0PGccygHlatOcTc62bVE\n",
       "5eGUQaexedTfmJnqIcRwoFUg8xZSXg8oEdd4TdtpI1XMQZISQQ4ldJj2TngFbGKZbKH9nsXk1kzl\n",
       "PwC/+BmYouRMUZhwzR+pihT0gyUSWcvQ74ZLCRvfUX1SAEeH8vmqp1jeMpZx2nAltOwx08wpIDDD\n",
       "xlctVXZB/V1kY0CErxznGVsAEWQSmSkQweB+LAXBsqoqRlYbzHpFrgfRBvCiIg75qu3DcH0nO8LF\n",
       "BgMTlweEOcUlqDyR4MDaP05PfDJd0y1aban/oqS0YoFHB20UrgC5rZJ4QKs/J7Xxwxlc+VDehcfe\n",
       "hexGLb31ABapKq87rPwx2zvix0vpHF9V9+xkCPaDCfOetcINMbSYPiYcRiKUl2tdzymJaP1BOvst\n",
       "ysXlecl/7LuxiCeK+FlMRQjOcgLrNb/hJLnff4Xk+4rxOOfHEHpCa2CgSJmxm6QY+jBywO1YZKq0\n",
       "XHPqqWq8JNejMD+6ZxxcMN3xqx/mnXMfYnBgAV9SuXGa/eU1s5q9uFaQCtP2X4EPa86Xi3jObuvO\n",
       "t8YlG4sSXZtGa3y9P0IQk+JJgKgoDMHnFo6sNOR6oQIHypu8T+BDKJdqg+oazYRb6OhK1+7ZWGee\n",
       "jjzuKVwpD8WKigriOpovS2ad1bHyUCI8KnIoEowPO3CSy/flJx8hQnQ01XFHr/nIqFcUQpy9wqrC\n",
       "FK5HLbMqNL1ChYteE0oq7R03NZ5JYeg6U/7lHOxiOoPN2Xv9op0z3HvPSVeOZLthKKOcu7mtMHNU\n",
       "tyrtEoi2K04MxBZGW9UAsjilli/Ixmc6zuAjfW01A/9A+zl3GKeWp7UQfW6+eLV7raenAxIBXLiM\n",
       "fBB1T1mN7BvE+HC6m41fwZwgHeEZmZaQfqTr5b+u2f+M2YqmXo2QVoCcYAjfThzfu2n2ZrD1UPHV\n",
       "hKmwO9FDsylQDV9gsrFWh7NMoUPkf5iOWD23VeGpIl7dYVkcneATFAHxFn8BAl0TEyXuDK9b009Q\n",
       "wiGgJFmipNnw65TiFs2+iuQRSmCb4GxN0skPSHWRCOCxOp20RD0xWHi0uaA2fM5Li1S4yNDGOqso\n",
       "+vBD8cSm9EWlRlVsLTpCB/g8gD30HwGZVJvtgVPL9PUTXFhueHr8b3RahdMqqpuyqZwLEBsPohLS\n",
       "ekujEC5M36q9H1BbWQljk3VZDY78/6xRX6WgA6YAP5KQ9swNGRfQpJWr6Mm4rZ/yi2cjXm5+RCg2\n",
       "Yel8mIOlOGD+jV6bb1UX4SSPlMQtnv51eFsdvDpjlFprpxUM7RFCsJdW9jrvyDfFl6jMXKB6CnG8\n",
       "f+hzJ15P53+oaumGOk3/l4pNENLKdmq8sJo37VRpf6wLhzEkGFq2pvE/nuMkd577V+5YndkLAJVl\n",
       "t8N3DeA1inYe5X59taDYm+0Yl6GrRp86Ghj16L976U853/8tN598EWqlv/+TTrOiu3Bi/eoufrx+\n",
       "ZJsrPtQF2McKKDq3Rj6lw9FHGvW/6zONcyhDKMTJooIqhnZMHebe4sG1K/agwmM22s1jR+wHDEgV\n",
       "hpgVojUfgc+d8ObAMfvXjR1XrjPdVwMJNZAPU+8BPkhWywxkoPEsEHoxlLFwvgAE9LZqeZU71UWE\n",
       "yZRUQzF/GbGwYXvfST2rFiSklMsQ/ZFd+2p/wLZWsfVFWaQa5An9sUFPxAyDtdZhh8sm6JmOBy6d\n",
       "R6qeESP9DjJglFUkG8NG1EWirnOvSG1kfrQ6dV4ai+o1ZPhkopQhJDerU8lIGOHg89Pj+S9Q+F3F\n",
       "Yg/vdBb88P4NR2x8a0mnXLzAEZYXIkz1+2/ejZBhVadvTr17vOkARbpil6haxpVCWXodQ6GF3Ymo\n",
       "F1wv/N8XoKEz2Csq+Ws5zzjQAxscPRRwdNv6AwSIFaFtkjsu4nCZ5cDK4cz7uz8VY3q7sZ5dZ7Nq\n",
       "xdoue3Q4qsTRSTNqNTo6Ri687sTcbgq5lzWMsoALGVfB7wvcHTTJ2as2eFLaQPST7Y9jfB2K1rvp\n",
       "6OBdurhbnYXSr0+Pjj3tvqaqWKPXfoMfPHrePt2jzQwlb8hy9bDgs4skhhfqNH+iFoCKFa+uLiCS\n",
       "b/gGirarMW7R4PS8PCVHOgzG346fSoMEoudPNdeN0BcwtM3kIDmcyiKAjrh7kclw78fEE0FcGifk\n",
       "/bagcRwpZqf7oy0MIKU+LR15XNm1WUDORPQdsSKGzo1d32zmxqr0Gbl4KdRB2OeJg32OUojwHliu\n",
       "H5eHL5rr8v6i3GaXP2yfVrmdMna/DRTPZE/cF1MrQmfK4Wra39c1+sYtcHmrXxudFPjFAPs58f6l\n",
       "/Z6DVYUr3mdMzVjTmYTUuYm0BGSDcLutD3pRjtkFMjxDh5WADGkl4+uvnxUY5CDbnF3RUqAtBcW3\n",
       "/iHugn63AP0tJ5DmhVfz34UMynHr4oxSDkjpLAOsPlESQsZk4cSmNuYR7xJ9wE2TcPpxOYgEIyFs\n",
       "5ZCmWJXK+Ps94wYVl/Lxz+zlaTay3iJgYpa32GgFBOxcI5RWzeMhwIa37XG6Yzu6W+d880ZH183u\n",
       "f+pLuqaucSejl0Estd6xKbnta6pSWKIO2CWDEfCGbUIW3pvGagAoPMDKFG/WckPhUnWOhw57yFY3\n",
       "5NFCntAX1EddoFDIte3vqtffvqn3sHOKN3oGWSqEv+m7K9Re2q/n7pWqKI06QEQIdEq/hb5I9o0i\n",
       "A2dgVZ1hvuilvgcdsHiNV0aUVOeNXxwe7xWmEIk9zyu+4PkzklflfINnqXr2swyPCVB523uZQSIS\n",
       "L2AKT35+47hYDmsT3cHRY2l8KsJDywopLPiDCPBw0XhHKUJYvdSsSN33tAoSIzirze9mnrxdW3ug\n",
       "mkG2o+02YrjuCmNahPDAN90XQ0+8A3H7my+OkIRdtji7cm3gjMR0HRSgm9isufuoVPiyOQCgmrpN\n",
       "RZfHZk5U1KRaSxa2rkZ8Zb9RF6SU4o7Bh0ZtHYACx/CvR7ZhXM2Vqj4e2TgsxRz32o5wqZje4+c6\n",
       "EY/D2ocJSN4m98/wLgB6AH0Z1GFMulIfdl8EiUj31KHyXiIShaGkfvL+oW+Gb1/B/2sA/NV7Wp1J\n",
       "2sGEg7pJ9F1XX98qjE9IC5XcbOngpV0Cfi/2U3oWQG7V6ndZhI8A3Cdbys6yicDjtEO8cIqvv2kD\n",
       "7PUOC9j6e1tLt9KFyr3TUnjVsyMAH9vGWESyvtQc8vdkHlVXRo3kLk1IBMDZvZCvLmSFhdZS78in\n",
       "V8Acb6Tj+w+aKVY71sIbFKDwgXVpzhYZTFgRO4CT40hdK9vqO4zaCM5S7x4/fWGnIZvEbTEKHqEv\n",
       "8/cukcLDO5O7xY9LdYbkn3QYZ6+OUNmJG31w2zFcmq5wNh3aiT/3JfXkW8SmlCf/wH9WRtaWfKcO\n",
       "Pih3unaljFxlUBj0u5494Q51hmqHiJAmMlIzmuuCuwJJqOAoq9Mro2s5Swk3oXcW19ZuNHdn1nfW\n",
       "ATRJM5NRALFgqsA8uwGCKxpKIgASSWhBXJe/TkRATIURzWXpJzNpuOH79tCyCRVMdfuCaqaXun53\n",
       "SmhykRXzBf8EDD8zmakM5+5w+M4h9Maoh4TjOsQigsH9gOPZX53HIfhMSQiMGDfczV+zDP5sbgNy\n",
       "pS+XmzNaDTIS68oUFog6oj/1eThc7jpBX753R8EWzLshl54GWl/UHuLZt9FIqiix3j7Fw5QICun9\n",
       "bfG/b6mke9PKdIfXGKPLr7x3qDFqKtk0504ZOHDLI90IsA051Rz0t17IEFHnbsJeM2leeVkma3cO\n",
       "I33f0h4/LkHRJpwpQRcn2efBabX9o33M+m5q3RxmLuquOWvWtLFN17FpdezzmjfN56mXAGPjdLSX\n",
       "fmO2uacgCZ+w8gIqVI4It1MoCt+hmunfyw81j6Qa0Fndh+gbUwt1KCswPwpPWeS2q4KBok7JLmV4\n",
       "lp2MqxSvhfYI+2/TYKwE7C/KwatzFLSqsIQUEg4VjQ68o08VOagngLdxrwtxsv8UmQKse7ycd/B5\n",
       "x0EJmyM3zilLUp6Fol3J+iIvwtssztP1UKDesvut9EAEf20OMq4lIzH8jQQLJO+Qxg7Aj5cBgnUD\n",
       "/dDixFrO1nZL86PwjQjEWOFln/nfIyVyOMl34pt2Xtigq0+QEJNQas0VZDw1guLg4Fyw6eKPj4ys\n",
       "MaYl7ZG5N08YJeQ9a1lKZ25j/1ivsw7BjyybOMKXEZi9MLpQJUw9wjweApXj6wdPEAu6upnITExO\n",
       "UaFXiJVtUdCEr8YHkFTT08QPeRbG3aR9E1iizIftWSLytXA/EddNqWks164A+cUK9+5h3xFJhNdH\n",
       "pwWW4QQpNuE/4ocaS2prLVXq5oephOixslcvPYPN5KrUQdROJXcVrVLzQsK2zygOz9WF5xpftZNk\n",
       "c79aaLXDc7c+7W2+p1OFurAiRyBEHlBf+7texCfAvCJmTqKxjzpaI9UaHi6SKNyO3eHu3Y08VDZW\n",
       "KXDG7OSK0W3Xrm36S+bPwaZgUlFoJgPpoUtAYX/Zr2LHJGKUqHwkebSrPaC90Jvr7id98lwxoigF\n",
       "g7LPoLztdxct3S467x+UhcWtEGV1Lwe8oYQX2LLCJrC3XYKf7TYPVzzFaLmSDy+T6lGereyzHj8G\n",
       "myWCMDSHzfmytxQ8En8pg1+yVdz1Ntp6Cukn6e75WBDENM/21Y9gF9oqmKnm4/Ky2lby9RoHNznr\n",
       "UPN8slRJywP8akAUF/wfKho0D8sSV0KIsv0oZKWNZd9j6TLcrBdmAukVzwGf2Hx2rS6aj7Enoj0t\n",
       "4jkHLS7k8CStq/XUM/DY7f0Dn3A5k2c2LqOsDcFJzRwEVJCgmpspCAOw87jyvPB0Hl0Sh1V/Ug/n\n",
       "dwwBOdZ9x7fZnuWBwUM3FSnqjKRNNSNeS7Wx8E80rUrzOjEiEEZQ26Vy87BpeRRdSLpN6vNfjvQL\n",
       "+w86o1v7ym+4YYyiPVISXzkF+ITaSbD8laPK4GeKGNGJ5pcfzKutS5AgnFDK/ZE5w2o5qefv+Hi+\n",
       "v8uTjweoPBfYhx4BiqrLzvU0n6X8yMVjZ4JxBAHP3jfknk0u+NGCzmI4YwEV0fpeIrAagd1bvqYy\n",
       "iw7GgxAFhe3/l4xD/2KlMSnGVSbHjsBjLk7piUj8t7mP32ZGBVyN5wC/2RCAlSZSSD4LoqKj4Wie\n",
       "9X2uxpaXnn9RSQlyBMVliG6sLh7iwHrUIjeH+TEQUqLl6K4rFCEgr80QhbcUhuWKgc2GPQw6ZYYy\n",
       "egpdw7e/yxpJHbYWOJeNbeUgAinFDOG8SPBUl2qYgQkEyi9QAK6ffs3e4dY5vH0uu/ftMMHPopMV\n",
       "LCzljKRM/qS15ohf0QUOcfoi+RXFiN+3/0Eq65AEVR5EnLL6XwRuwpG3+vlvHHDGdBW06elv8V5e\n",
       "ulU7GbNIzvLHFYAE0Jyd9dTZrzQAXkMyO1wqk3bMvzD5tAZe3GUOe2S3dBr6hY0Qr2NVjjJfy9D1\n",
       "d5dkPFBeVLI0VzXgs7sEaOKNuTspPI5JWgvKKOgrNWOMNJ9YeTrFYDTp+5lBtJ4W877Sy+u8QiqF\n",
       "UWvFYIZ6SMdPqvOls4/lWCclUoaph8JJkKSv8RuwKatCkDNQKDrZ387fOa4Ri4Jyn7YdhfGCJSUN\n",
       "07Z3C+YpId2I9uT+9jIRqWFSNlJYVohT+vC8Ub4nS9gBoC5vDt/cmmqbenjtn5f1A/QdT1iQpNLB\n",
       "ZnUvRZKnAh7KKUFi/f+8yxNnKmmR0r8rjezsyOY3pjXcJr5lrplRn2zwmm4oxIidKoe2d2lRWZEe\n",
       "tp6+oliUpCmnWzdIxAt/TfMT9ILQt7gqBMX88HynHngEPK0lBofzpV2g0tibJlPZZeg621WAK0sw\n",
       "B0ceuH/y29FN+0AC6lMqcPkxkhwB7QNAfGuZ0f//gb5KOfwFPKhsm3LthJE0bLAO+hWRFf+YjUfq\n",
       "n1u2xnwO9EyuGcWHDdXMRHQPwDoxYedkbAmp3yVFUCaOw+q37STRAcMlTjScxUBR5OTqxwGp336l\n",
       "vrqV/2jUMdKh7u1pEPSn2yoPYb1Dgo5+jk7kn4BUw7TZB8CC+/ryWvgtlu9DuCsg5iswnWecseYa\n",
       "aX9RbHncL/5yAGttaFVam3Pg9T1i1caOJIKftdk+ddf/TzXdMaOFpt7Dbyck4WjaMm+2k4THfeno\n",
       "/A85iFy6Ki53NXbRFvH3QnrCeeLwIDmMjtqDxRpoKeGWOHboXP//ssTMWZsi1mObCWGjWHre7RBI\n",
       "tETNts+WnK1wXsRbF9b+UZKhMV1cr89OUlmCcKl5u2dw/cjGRiRavGfEgTzoD1fAEscS8EOPUEaa\n",
       "qmPH2X8x70kv9tIJnwgja6TpwZtXqB03TLmgten7QE/H2W4lQmK/jOmvr5jHK/eZQ/LtJThza1ZV\n",
       "5NYUT0BVjjom8kq71Cso8YAFwHH1hz0nyH0KX1Mbm0PRCeLw2jC5KQMG1T7CN5wzy2DyTBe4sgcK\n",
       "gVlZqv0NVHwE4kTh8ISLTBwFfpmgMCOSNupiCGENuwtZPyyqwyi9lYb8xWf+BsRtGkUjvZIIz7lI\n",
       "gq/7p9c360u9zlvXtqEUVSmAmTVZ8nnxV89b5nyIhe/OP+4YRCLu19sdJoPuEhA1t8wFhxBmVl8J\n",
       "kWcKosS/UFIZyiplqyx0oc4HKYzLRgcoOgXSI7QUesPN+Gqb+IYez8tFypiDz2lwZZQcPOyF2hA1\n",
       "OLA7htVm0UHQU32913T+Utb2cob7QOfcxI5vRhPGuzDLpnSFCyd+/+JdcF8YKhdhtZgva/rbIbXY\n",
       "Oz52ewIrXSFnat8f1OQ7TRzmy7O37aXoCZmnN5fZYydD83i/Lh5LucHnNwN0I5Bvo3ihQUoUR6or\n",
       "SdD0pC6Ue/OMjfmxtZjE4x29Wm8I1pwQuM5xVqfMqlQ4XbCbWcTLKw8IqyiKF9/EPos9BgMTXQ7k\n",
       "3YK2iOLZ41nidaaLRzt00yJPW+/DdWTsNmAXfo81o7Gbip3WPyQxdKcTWEn8akOieQhSvppCPAcf\n",
       "03adNqDsoX2R4aP93K8+A0oMzAlXlMMftMBO8Ufp/mkrmPkKoArA/+QNSAVTrCczyBQS3C1UUTox\n",
       "GU1EWrZfVQBCOx0c0DpEYE1RuBIbQDvYfUPOaYUxTh9/uYNm8fmtXKVipLD74JobVOiduq7GCzIS\n",
       "ala37HYUJ+08R2fcoRej4/RInei/96Srdlef+3/LTI6btv2Q0/nlqW5H1smoYZEEDtDJC8NVg/bI\n",
       "yw9roM2Ep3Xu53zD9FwnAVCiEyX7zRgYRaEorWNngEmTRkWouqbb4BDyx3kts5EyrItfuFnBv4sx\n",
       "xLBA2Os4rAXbyCYf4MrUYtGgE03d8CGfJsu7aCeoGR+2set2cKq8nEUDF6ePX4C4tIge/uSuFZbi\n",
       "y2r9AKSc1Qd9HGVNZy3bPXZCW/WzOCdgImPr23mBnT7fF2eqsAtptPnLZnjt6WXTVhSTH6qSGUX0\n",
       "86mdgGCNY3gCCserTqf93R762Dkcluj8MjsvED3Qza9w7hsGKNQwlVlWYntU68yS9xYMZ3Vucph7\n",
       "rUWENguHkHwHYGIIUL/HYlSEJAAAWsEAAAdQQZokbEEv/rUqgCKNGGUAZ7gndQDHHnt86Yvr+qzY\n",
       "ScBczqn5KscO+uc8EXLVonv28vggx1QKCfK7Hj0ykyzIYstBP5dkzTBd8q8hDoI1Erni3j2TLeSR\n",
       "hHapvN6AtVzOzp3Be9X9D9JElzLmT3rtLd8C18x9wv/T8VngKsLJcTQJ8Ol7UXY6/1LEAwd/hRzI\n",
       "MoCFtB7+/PDHUqUYNTcTVX//zz5IGnNi3Sbkwtr6yfb9LGBCgnNcD/hvHGPIR/5uItdyE5OcHTh+\n",
       "dRHCC953Bb9leMvFUUQzZ3fvf/XF13HjI58ziTWbhxcaBw9Wo++lSGyRhl1w92qSYNfA4EbAmhXF\n",
       "6vCs5FCKerWl5jsmOrIgodf5uZGpgc0ICI5RCXWaKC9DXZUECQ6G+ZBdYHpBJZaxCLd2tPrxByo0\n",
       "0k8g82e8Dn/aWJ4iHgeqngJGE5JOKVzX5T9Nkygw3E0zvJVUKAL646G5PYRFRb24uPc+p0HHRUG2\n",
       "5a4c+7X5Gvzut4lZQTkjK9tyIs94SzwMz/35/jb3Rs/agFcpvbhWmTn6NZvbwc9Fxdir6BuPxhIf\n",
       "ebD89b6pLqSZHRy9jP0zu/SnSpndqsrjPN1Z34hSmxKn4eFBvyTLZTaIG7f+ej4VhnLOHMtCwB27\n",
       "bcnqq6CCNo6SlaQ+R8BT9HFI5DG94uBUMhPzM5sL4r/3oJteFKFZ5kIKm7r90ralfud++PIjHCZr\n",
       "aIhmwFrgGzyTVHucal9y1QHgd7/iUkjCgwGmevJWfqHUZimAV3tXEyyGNyLCeh1uIEmOiP1qOZAj\n",
       "l1qvhhZbZbL2hSLmIb+Sas0UMKQJI32bnUufzqf/qSq2TX/yXR4SN0e5WrxDYR4IJ/dhC5MA2L62\n",
       "hgVy413lvm2rKxKcXzRq3BNSigELFZdD0oqoA2FPISaaQH0ng+iLj1NI4UjBpEt4VpIUatglaTQM\n",
       "5Q5rkffzfE+056kk9K6Vsw0FpGiE2STd0sSUNPO9u/sHK5VUwFOkmWizXXqJBH4D7WR0xxfkcB0w\n",
       "ZCQ4boYz2VQmSvDFrgV5FdsgUzuQfhRkdgJYHG43tjIagoTxgLgkl7H/eAZMpJ1AofsIKk9gzZzu\n",
       "tbgk5QHsU4tQ+VTuxom5iXKxg6B2baSrjBtGzDEqXwxsT9IQxkHrbvYf486twjJjhdWppPNwP0n4\n",
       "SwTNePR6C4uHX5DTlzSm95G8COw4RkiZ2SSbmLhRKxf+mK3Df+3fhfToClh2hBVUAcqxkFdnhjcL\n",
       "EnWYX0qbcVr1jIFu9mJMuuyVCgWRXysUl4FfWAJHyBgjL9T7d+DZxdOmRCnxoPg0jop5bh+ZY03f\n",
       "H2frJJ+kufVkJSJJWHLgL83b4Sq2mv115dNI9zrQFaXmduFkB228z/GfsavXS6hd9eepxCaVxUZ8\n",
       "a9LFLg1L+R8jF0pvXP60+/UF35sZj16zjioWjEh9PDNaMFZa1eztbrMJU5vvYl5VChDELEMtK50S\n",
       "8pDnjxSYjDPlaldNxeH9Jkg+o+Norg/rBJRO0qElKufKuoy5XGKhrPf10K+HYERJn5s61c/ew5B7\n",
       "x/4cehkw05zh51nI5g+hm+ivp+GVyMdlRTGpIzYpCgSJs+/rYPyXeiAB1SxW1HVcMtzXrrLkVOWr\n",
       "fEU3/pwvmcYzY/Fe0F4S832lGEVGkRRkBh5mN5u7zEQKwGIij9nLaILYCWarNriDPAdqE2m5oVIz\n",
       "gBlc0kRqPJJ6dV1ZsW/hUbjPs11eLRo3KxkpVNmIuFB/DRCOr2JK7utHrFSOdEeJJ7+JaA4h6q7b\n",
       "DhdXRFMJQkOqyfKVWy91UT0H+F3SdijSCnBSC+WfJ6gbaiLTvkgNaC3Y4OSZM8aflGhFKrhO3HBs\n",
       "UToU+XYvKPonKDAOPpr1zG2UHlPkN/j6kMSUir1/MoJcsnNzaf9fNwtSEquta2Mtss8yqr/kQkO/\n",
       "RTxasoPRq9ecuGOV1ytWqiM6L2mTV7eQvrLozXWowlR4huDdgRQIPqQFp+xN7JmN4Si8XOMm9C24\n",
       "2TjlDVre52+j3H9xxpQmjqaLpsx6vBskqKkxposdW0OCgSt2WfD1qyxL+e9Ec7Pva5QAvNC63E1S\n",
       "PB4WPD7wcoOtp7jyTuYWkCR0CArntdMxELM+FGWYvaVxHvzJUPbtQuR4USjHMqJNy3DUWEaxjpsp\n",
       "ITZ1URjKCVywtPDtO2OMwrElb33sggvaVxLIEct5lEW7wuBm/JaSS91lpRKwTD7SO6ZGa9CypCIb\n",
       "nSYKShRZ755leQYwcEC5lRmyMsuxE4wlM7qGlrOpeOcbL3C1GMut5DhMZLrSe6ugezDg8bwTzC+V\n",
       "Uv0qIKOMXE0ZBFmWT/ZtscLscYlDA5pRKAlWj+rp5Iy3O3GJdZzIAc7apWAu9Xo7zEV5XxEV7Tg7\n",
       "2kCCthxqITHdgA1POVX5IkVD43mKZbFPc2reD7DgLHhHyNsl36d241UocHBGzdevEwxHv8339ypQ\n",
       "tY8uK4pfYsGBAYy/C5VPBVUwAAAFukGeQniCHwAVSs+Qn4MLO1MLytnyGcq5RGSxUtY/P+EFEoAB\n",
       "xbZd6l+v36FMuUYFE5srlDrN6NpR8N/8vxc2HHPwyCgUhixXqpSbr7wO09+bXTzHFxhzshvWKg4S\n",
       "DbcyVzNqx8MgjepsKt5PepudvTFMfF7IDbUvIkaOLENZaK1Lj+3uKhcrst1nEI4ZPupCxs1Mq1PL\n",
       "lZDAgfdUKAXAiFwEIy/9wF8o9FSAE7h+BN6lcnYAfZRzI2hydby766Sa5VIdtub1LzgdvzqVyFyV\n",
       "RAuzTfdGimvJiw+EiCbmbbRRUVNofyRIJfI4TUdbh2xmrOVulXdNY+fjLn/jFwTT2VRLWmsa8bir\n",
       "hinha1siOKst5B1XY6vrCek8qBi8mrt05n4wXmiAokVkoKDp7DBXxi5B51wnmaGbuas4kQeWCQVN\n",
       "lIfy+v541wucxv5L9GzdYCTq0iqXWUTAmC871+YsBVYXhU0bdq6bm5EaCuZldgLY665UDheLyi+c\n",
       "Bt0anxFAh9cmarNBCIaWQHZqxx0j7O8iAtXD4L7m8nXdEL5CtU7djw661QJicpNGnsp9V9kR+l2E\n",
       "D5iod8sxfrMFAUG86wGrpetjDDcdiKmrTFxCM7KoX5UgMHJvaSKI3xtuK+NbnMPD1yir0y2snGee\n",
       "2Fs9am2p031m4nVKzF1PfQGtTJ0HEmDChiy1D6ZzzvrU/nr/JoL2xMMwyjd9EXubvOddnuNLU+gs\n",
       "ttnzDhpZAbHziVYz+Zf0gzUijIJJRoun2y5UeT8mAvPYTDKh21q1Apgup8ccJmy+Koqk0cgOpyCD\n",
       "D3ItahptY8tANqMITGq/LMegLSy7h0abE8vabIibAU8HikT9zAJU64ue8720QqCyuE8tUtRucEIQ\n",
       "sgYylzsafvm1nbrJ3hX/ieOUFJhDdWwlWBP6zWfQP5u8Yj8y3lg6SsidbKnxjOwAouHvd/4BNFeo\n",
       "XNJd2R8TLOGa7zJEzQIb09TsS0ee+/FEPV5/fqCIWJuJr+E3u/8P7w4AE8UYjWMrpN6roGm7ON00\n",
       "zn6MCvqNshvlycGhwQgQvd/mj8LB5Osa9Nv7LoQ2M25QBjMwvYUZRX5MML7nhAtG43KEjSHLNdVJ\n",
       "MGhMcaxem03ga64w6qLI+c1f+ixegMEKj+eSa+ECIUBxwcUepAqSc75f3dYwl5U/34OyP6PfGOo/\n",
       "iDDkBwmhdGEiIaZqv+36f9PJT5lvtgiCZc05TTE9pQfD9zv0copth4arweHkHE0dDXni0szMYuDh\n",
       "uz8r8+Wvx6zSoqVEx2cPRNrtPud4OFC/nterCOOzJN0hiGNIsv0EfADGwy0oVOgJ9spvBaNlm5nr\n",
       "Agb/J6dZV4l6WY1u8C7D9WPI1Xl/B+SBn1YL7Akskbi78Vicv/bbVKe5quKCdJlOQEHc2jJCDhxQ\n",
       "qkNYEpdHdm42GZ3F+TkDkhdCHkjYx4ZRVHJGI0kil4zIuCLUK8BrFdsfg2fcp2phNr5nl9KBHokP\n",
       "ncShLBvo2xVMOMxur25I8uu3z8+Gp0OVTWfzs7l/9rBD5qLWkC5F5fxavmfVsDInDdPNcvSaUeS6\n",
       "1m2rI13ykQZ39ISYaKQ+CnK5zpNv7XQmx/BwgWobwW+DGSc3utUdCzw6lmM9vhiSMOwjjueDVfzq\n",
       "BCixTD8OvOjIEJeCyftZGAurZ/ZdsU/G6G85BltrAXoYQ3Zy7TKwo2iHwePL6fHkehTFvJ3hL23Y\n",
       "y4p3BhnKMxAA44mZYfPhx9suHn5l6MBuz0Uc7ekKB2Wo+n4TEWUr7IvMhIL0UFXjaY1kl6zkikac\n",
       "5sCVDg/dGPKQYEALiCVymduySh6xDqj7xxyrPcRFt20dxAislYoVYKTj78j9+C/n9R3BqGgvcNfm\n",
       "nA7CbJyZirjso3L+SwkgwwFomlsHy+3W7F8Sd161aTRLtxV1aCcXMlv0NF3Fs6I310X4W5ePowhl\n",
       "34enuUHfAAAFNAGeYXRD/wAvgtujHFXf8n9I0GwSIA6V2A7NF/Cy6h02J798DrekAA/ofQs/+ACx\n",
       "Et79KRQ2FrAT5Sfdy0bkYm4QyehGzpnAxHMd1Xru4wb871Y2hyLezYZmTjNJsSsOj0BuW7kclBYy\n",
       "4LQbfFi6/jXsOQlyneOPr5d3K8aptaKAif+J0XUqFU0BLUDyqFPzTIFK49a/MeKtf9WRFjhbWNBp\n",
       "zIzcMJFZZ8rbmYEaSMdEHC2S5+igRZxSNYi6TCrrPKqh0w9q9+EMi0ZJNkjj6Y18l80ENP4HjJN+\n",
       "kfADbrYmEnjUVL0zlYak5uUwVAih/BEu9RV0YEr3a5uCTJb9DjWyU9j/IITPGw1ZSRJX+v3K8D0E\n",
       "ssiF8xWC20FQqrv7PvD9gzKGOTKMyNcGHF/WIw6xseHYUhpWsdXfWMFr5Gd7g/lgBV3n42R2knN2\n",
       "hYESismWmb4i6hYCHk6hFADdB/04Wd03k3xI5fJ0q7+GNfXlz82Kf2nRuCSXViNhBvMKy1Lc++Xz\n",
       "10bgpPYaNJkTpg0uRB7JBsZ1DaLTriiu+2dOYKVI4GoQNV5Jeco3aVET4DKwCHbNTiqzHMGnb8j+\n",
       "wcnVraU05dFpWM5Gskb9yxlKbvYOh3l5pxnqZfEkbb6W6hy/U+eLsF0eS/ChAoU3u3WWFVKeIgcr\n",
       "kZtR7uzo8kU64oA/uCWpykf7lqPCR9JHe0fHXxQyDmvnFYHMltVazPU/fsTvKwoqm9feAfwa7D/H\n",
       "UaqJaoNH/dHZM8UHxVKQmGSZx9VQWM5UIG09AmlehG+dIR342TQY3/lmrlXwnDOt7tw9LvBU5HRX\n",
       "FT6fIHAI3uGZqgGfkaHB2Zr/ERF/IJbd56jcU0yIqnoQ1L4PqNqf1yIGtU07V0Vbtn7vge7c+g4F\n",
       "XyQCJVw1oUGbdyyLFse3Kl/2GI0CG3Q3qZHAU4rE8gv8yT2fmnIQoUE8+YtaS3V+6pV0V2UKMNHK\n",
       "Y2QlN4WvdPB+E/A9zHmU16q0KAM9ID29qMliHSvayItobTsEy54jRQtoP5vHipYsi/tb/Wfm8pYg\n",
       "TLUR26YoGqihK0q1cp3v8OmeRhv/qSrkgZkNnQhRZS6okBKx8FV8nsswL6qVSEHBefY6GuRzySIB\n",
       "78jX8fd5R/diKocarECqFEhHDPBrBhmtCRqFpp44t9IpzPDAgXHgYQAP07x30lk68sOnhxSQn8lq\n",
       "LNmphSwclz2PUuC6onsL8vBY1g5kudC9pSi1MiOGKWvZh8zsxHnOGCQkC6HkEejTJ8PnHieINpXS\n",
       "TjpoKNwxg8L82nUX+TfzhwUDP/lBcCZS08fdA2Zh39LXBkHxMvlVvLVNc/a1pkzGgoV89QBWDL35\n",
       "fU+GqfWaNTh4mWG0IEXYSlNPLO1GEXjFilTl1gAo5RmEWmoZffLB3sUsiWybEDZN344YLbwB4w21\n",
       "CXEVXsrkj9OqnmhtzPMPhIXagYogU7zR6m69ufY7eeqkSX7sVFOnL4cWCbm2H5eNOmZZ4PhEJ/FO\n",
       "uCPTtRHK9zrLuAVdNjaUorDy8jDcN/sMyQepejEf3nIeY7U2zZeqDUfz45WUfAJ2MxyXGnYZ5lko\n",
       "1q4bz19vNHdXL6xeu14cviXg/BndAnJx5nNREpKioUK72tS1iXF/pVpw9Ra/n+EgiJHPCVdxfuIn\n",
       "jglMCx9p5oE9n8rujOTFZajIbpuKr+Gmf4rkvPly8iMjMeBo3+UfZnIQgr2uaCGaZYBEwwPBvcai\n",
       "lhRSY/L7g8Q1njSkEFzShP4VMtPdLNRN0xHryUob8AAABAcBnmNqQ/8AA0vjkdnI5uoNdo8JkQHM\n",
       "Bk6wBcf/uC8Ed+gYMxDTbYZNL+Glh+tGel57M4rEpUUgc/G6W3DMtJc4d4W3RYX+1NWISbj2H6bp\n",
       "xzrSHA228R+QeWPbp5r97QJOQgCdkAAWHu4TBTzqoZEt01tklcC79Y6uEWMQ0KOytPLLcfgEGUL5\n",
       "lIkzS7GszU8nVd7R/Y6GzYKcUeBlE9/j5JNBZVKk1+NUMHdQYCCP6KVbpiZDYHsGhmiJC+dNtjL0\n",
       "zpuktFx1SUlWAmqMiX8IQC/13i0ZZmpNeBNh3O3xztDvD7+ZwwsyO8qIQfBnv461oHzBMjUmmU+6\n",
       "jpGgSZsD/fc5BZIgpli8mrhtilWKj4tz7lvh88NbVVBr513hJ7n+N9jAJVZmmhWeYikbh86e/M4P\n",
       "dR/ebxfTpjG0gugZoXuFUEqH3ADtpKDx7DHLFDch9cp8v8PV+IbFJsLPAUwfDnCHJjoLvZZZd2gr\n",
       "1/ObzJ2G0y5mKiqggPmnapSLOQuNUgpBaLBIhctJPFyzl6AZgBI6qL2D4FdDA1zYbbqSgJkJz/+v\n",
       "isixaKKLarU6RSUHHAFdU4OfJJ4qbhgaej4a+al6iD5D3k/2lJ1/0O6jhvtBLQoTzZmxyr+OdSPm\n",
       "pKaRl1tSZQh7ia56YUISnlTYOIRy+ZbERmofqwbgSZ0Cl8cv6ZEoXIOAOFJxs15lFlXrDrUsZrSs\n",
       "VpQ/vFuZfIQ+zfZ7NR+PvHSGOZ5GYxLWcpg+19fpIIDoRMCQtcX9eVSHpJlsDULObC932u4Gdo7f\n",
       "+7WhgbE8reAwU6rVxbx5oCoZiL5nlELCw/AISt63J8KARTqBL64YVuBbMeLESapr6nSJ+igYqLAC\n",
       "PsjOGwQSSRoy7l4k2mVYFg9NfKu/HfKaz8LuUb6Q2ImdYSuqrOxWlJqF9CJM4ReyMCE4KbGek7nj\n",
       "K1IyxJCN0zuBLneV4wC6wz2uZm9H46BGaH9jd6CSiaaZuKl1z/CXcLL+q/paGax1HaKbMQ0MXeum\n",
       "0LHuacqULL6a9BKqh0MBcp+aihdy736en3DBL4wNnLbt/J0kutc9QRFErkIWvzqR2ox/NNki6D9k\n",
       "ZthDPh5asM0C3hESIPLnCRut4CYflwPhcy4kooNPbnda4qCm62D8AxuqhIXJFw6XKTbKtBwDzw5r\n",
       "qv2k/kNwqSpd6GHdFsq4JbAVoB4dXgMRNWupdPJxd4pB4Lm5NDRKIYpihnZohj4E6CXoZ3vA2wHL\n",
       "/K4nWCYwIfekGjx7TwnFovD9mr40pn2oE+Fye0Ux93T0gNAo7kWGfPcejoUxr+XymoANb5dnCizT\n",
       "vQVRq5/W0I+rvbkBiBahd15SGFWOnXyY0zzWu+eCSF8TBPBubNlkpQAAA4ZBmmVJqEFomUwIJ//+\n",
       "tSqAAER+1DlPv1XFdVAj/uGwAMVTvuUPnU+gRr97AYat/NE38sUpZ/1ctYNn2iteBivAz+LAU4cU\n",
       "XfqcTtLbBZLPaIFSamangkcxo+//Ii6ybkUMcmbU2VefWC6ldbKXRMn7OEQCxRn+5cObGXMBK6Im\n",
       "kxI936P7dhFrhU/UPBHgIfiKC2mdl5HrkQm/vppRUakvfJz/BRfkSgfVa+KSFE9MXDjZ1V9PyeUE\n",
       "6NCcXE+DxO/yvLWRPgMUTVWj3fxZEDhHJaZRT6p2CnSILaw8mtD94RPV6ziazXTaySQXXWTGi42z\n",
       "oZ0sDTn7F27YY+yziY8F9P0Ug9pwEEKT0O+xKo8s7Ofm5pZH/fQ97Pm0HGQqMD+DG9N8KTH2hxT5\n",
       "bUq062yIODoICiUqMA6GNCbOQU1NHQ1OQ6V9kJT3wlwEpp1iL27t8ol3Iq/A//pQQ72FUIFIHQIu\n",
       "Bnq1C2BILTYvqTzIif3xhlM35wyyvH62+sCeaqAmB0p+YlT0ymKzXFJdD/RO7a8+kCeTKV64zs+B\n",
       "Uaq+UWqUDY1PfZBOa35LfhToqLmXdwY7GMWmOuX+s6ZBsTEyUD01/Wtev6AEPsFpH0/ChJ96gvQn\n",
       "heQgx95pSowlu2GOLWeV6KIZbBoXOSizGUBunN5rLVnrkAFBAGacnTdnHe5tThM5ekiaIAShcFKk\n",
       "pWHbTNtiolsp/sLz87ddc4xmnuXrJpfm5xSV/8mIzF9wdepAmTj1GXT5KQn5Qvlt2vDeExYu1tlA\n",
       "uxeIZKDqCSOGH0iQVpX5/8Axgfry/xz+DuWOQO5bIyifCWjVxyEzG5hRi71AebC2XL+64zjVUTzZ\n",
       "UkPjHEWujmRwsy6Ik5/3QgZVnGUjt3XpEW6p0GmjSt2Nl5VU/Ik2NMgh1qAOovqHeLSGGaT1csL4\n",
       "EB6ShGrjCxdYl8DjSyvdBGtSTZVi1P5a8TE+VaVRqUShCiW0LeM7RXlBnMZ6ilA/3NhYaCH9ukqR\n",
       "6+DmZ3gQzBktnAu7UJJkS4YFrAZuBcPy4lVbrY5r1UKePL4uQaY1qRFtXVjti71bIDmNaQ/TilC1\n",
       "PxvH+EsMy0V09OY0SylcwQJFizbRRHBQZelUp9iaMSVC1ay+jIRxMuPZbQNsAQdSX1xflg9vO/Uo\n",
       "bslPR97xUc/i4w69ZxjAnvvb9ZqP2nGz0nbH3sf2vWAnMwAABfRBmolJ4QpSZTAgl//+tSqAAHJ1\n",
       "ln+IToSIfHbAIW9V06DSmK61LeYE9+FvAo2ndU+2502vZu5rS4jwNuIRIKOmyv6Bi0OP9b3dg9rf\n",
       "g8ccBruIQV875lzOdwmuww+SI8/obUZGPWUDzAm1hXS8gR+IkdyCfXQg94OmtE/lQgEQVo7HfQkN\n",
       "xRHv3DDaPje+FF2ozjmecpRciHjxBMJdhUv6PLnbY+5yEfDo59jXTkbfXyt5PtSacxi54CFF4Jng\n",
       "4VWxIT+p2OoIXS4s0+YPIZNHKgo19QNHw3ryFfPgzSU7oJ5YukSkl68O5rU6QgWgLkX2/NsNe2nP\n",
       "3VBstDMZa6Lf8TLdhrjBxuv+kQ6DuUPfklPTpRNtLweM8IWYPBvQU6pxZFSRcXMzSotgpibZiXho\n",
       "aw0ChzJrywo/tqeChjOPZhCBZcWqkU4SyYXqJDgzWz8/pMOIhr/N2RmtLvxsmlSPFTkB+Nrld0/o\n",
       "vyy5zjS/y/ffvkV8Ay2UXdUp/oNfcJwOgRVDBf2+QTnw310FVH9sv861/A+KdDGNLRfHf2tBAqFM\n",
       "E4adcpVxaSC0tX2NtMi/bB5fCaBWjacZ6dt1Zyp8MNc8+uhxUZKnrwlUPczdoe1rdFMZyufHUA+3\n",
       "P1I43/8ZHw2y6UQR80Immj836HP62XvyNHpk/61DpmgzvonVZQspYsnFQWkI6Awhz4/+WmLL8TVO\n",
       "GhtNkXuiZlBbg4YvTer6FcEW7zP6RSsYnUPmIooTnilX/UEhVWd1Mb/RDdCD3Slop/W2Y+21b+vP\n",
       "ErtPZewkF+fwzpIN6+ZuYGQIggsb1uYZgFqruYbzo1o07a4K6RqaamTeXkKd4olDulWPz3bSZlh5\n",
       "biykZQiTYc+OSYRfnT9BvA38ABTiPbHi/CIPO7o7bF3nCqthoPofqM1zM8fI9MPGZYfutSM3U9ji\n",
       "P+1vodQBO6hqIw3RmhXkO1e4KIiuXKKAZrs1BW9Q8AedmHJpfCGEtLrZN+qqF3613oBm0bhIWhi5\n",
       "zxjkDBWGVmAbSir/eP0WsDu9DqzKWIXe+NI3yuuHDVMXOaGcJEKQwlObWWgAWd+Ics6k4kOt2tXe\n",
       "Iv7+Bt/wXNced8Jvqxt774V1eDePzakKL4yxgZ8ePFKZIxJ36TGEyHd68Z3Pl7B4PM1PIi8dF+lx\n",
       "4feLhq7fJRXEOZklWdY4I8CxT0jhE/fthdEkh/ePmaCXKpvF+KVTvZOVq39mg0boorzmUIQDBnDi\n",
       "gnm/X13stagRp/i8L7W/ud/lbhgGlkpYMoGR4tZYhq6QF50c3l4Uihtta9Fcm4bzM28Ohp7tlYu2\n",
       "n4pVOrRqXzWoCRoL4eC7I2DUVXKvgI7XDCuumseeStUFvPqqV//vkdQUmbUnRZuQxAdWmkGoj13A\n",
       "W/HZe7bSQrdwhdnBes5re++duEqqWeBpE4KHZXsKNSiCrTVoJoynfnuBISYXcjvMn9SZe6GaZlpf\n",
       "HC4hQHFCLHN8p5cckJyJR4g3YYgTdN2mUsWJgR2E8VauCU04Mhc0HVUo3I55CsrqnNnXjIZ0ggSM\n",
       "CEnls73V6K03mGdDDrKiVCyMi17AOVZzsVhRmbhQLuvWE3SEMtSO6fXMPhNL0rsBvVFnkxIQLtsK\n",
       "FBFeYL34e/sTOyHiRPJO9HiqpMnc7TDF6pbI6+2uRPKNGMmzA77Ac5fBw2tB+2zn/IfE1fWl47pY\n",
       "MpKAdhkMj2m2KhKdjcXA7cTclKkgxtY6WoL080hfCyMlOf4q7EXu825QUn5Z/g8epdcQoFliBD1o\n",
       "i4jR3x+Tn733SyGb0r1eXkJOXYfo+HJKFZSvPwTKciUEXYRDwTIiAijQowsbkdpDpu9QLe+ccziK\n",
       "CZ/n8VGmvuUREufiBR2cEl2sfggachYzpFnwTRDGfoTsupxptr4x9Npsyhbf5fb64LDz/T8Z+4ql\n",
       "5SeHCIsYlIKn/snmpFuQvQSobMxzvo9q+DXQsy2SJae39xKKd3W40jZ9KYkwMwHkPkRFL5Vvrrxa\n",
       "KzaJWGAaqrXpFGwjkxjjnEi8x15l4GEAAAO7QZ6nRTRMEP8AAX3LNzZ28boB3+JYhKAD+kXkkgte\n",
       "8VkUzurprBqfAktjshmvXc9WwS9hmeiSY1yPycT7Cm0Ws62yM+IOp8KkP0DN1fTwkPrjKapfD7eS\n",
       "j+pPnlUobImJby8fy6zFvHvlnwXkIOZi1hs+66djxoDFNOrx9KFcI2KyseTxgsLSoy1xWK+62hQz\n",
       "XMFBF+GJHO9dXEUepM37itiHE2W7kNZMotKkZ3EaSOGKJj08JW6gFtr2gnVOyzk0bMqf0QdyZ0Yi\n",
       "PTQK/CA5BN4wVPyG/xd07JDecVKXdq3Ws/D6Td09WGJfCvXDvbyTHt1wiPmqoFt7yUjXtV8xo5c7\n",
       "KXFIkTRqSdjYxZSk8nCFH8VGSpTt44uLL7oP7BznsQjS8HmYNZbCPiFy3VyehFRTnTmw072SxdvC\n",
       "SJ+gNjLWzG81hgrKOVUZcQEE6rJNe2ySHXbznJllkf9JWtjny0ibCXwtLUsgPEYAtCr2aZe/z/NT\n",
       "J3M+kO53gXyJo07NXANgkpJlsJe7o9Swj219Tmdq30mYCc9HsGqNce5Fg5HI/ETjJcHmSSaFKUyI\n",
       "gI5azIR5NzWWo+JCeY55GhFPEa6WNaQPNyxP1MIWqsUo9cEcGEl2ISBmiw5MAoLp6zIlph/uw8UI\n",
       "7iwviUrM0tl36wuGt7CHGTlhKqda780PrcEhGxgyeX3AY7VcKAaBqUKVkcrlkYko/rQrRPLulpuu\n",
       "mW4b1js0btcN4T3HtYWgB3p0X7Ne+A2aoo0TQv/PfZRo3csGyvAOo44SJsFbYqphRf/DfU8hI8rO\n",
       "Udxda/9BO8Hg4BYdY6Mpd2NUhjeqTYVHbnVpnk9O4wgsG/X8R0dNT/AtKUsD/h/EtMgsWsHZjDpJ\n",
       "gANsBEqPBqq3eZYQPlpei1rRvGUTnI4vbFw7iKv1VJmHWxP0/e7dDgcmJBW9VFBAOqeirqG+0DqN\n",
       "x8zGs2FKT5MMC4bme6L9eVcvGLDupzd1bSXb+1lFrmR/fKmqkTYpxJ+HlGCnDhYgG3x0gU5wNaBy\n",
       "+Hv28iR8vZzmQGa+Ges8vaNWUxdbr6E4fHxjeuj5RG82PjshkJ9AIe09U/WlVRgUaDrnHkeyj2g9\n",
       "GNdWf+D7wnQB6LkvMcZLB5OMRjUXsnjyzn2I7iEnayiJuTCdOXxMoYKtckmHICfZbC6EhTTgznMY\n",
       "cWIp/NuHIbscJ78xcQsScrxLk1UJStd8RXZQMIR9ROyyEGPJKJBQNa168tBkt4CnK+vpSkugSreD\n",
       "qZlidqJg+SVK+MpmcQAAAqUBnsZ0Q/8AA0t0on3sPW2UdL7/3FJATliqADxiFc+mxBJQJd+WBuHJ\n",
       "6YP72lMrGHEfx+fjgXenbysjVoer309ryMSG7ifymOfZWFqWuXpOx5/5PkalK8jRVxJ9FDmWftca\n",
       "+gG6cTw+n6GWPUC4Ql/JbYFk5yQySPcHhMfD0X7ThTus9FIv3nMbYuNhetwRmAh1IIRorN3JNsPG\n",
       "FzniEUbK7X0aOoJHHJdrhMLpqwABtfPOCf3E/iv/Gb29UluR7+b3Z6wCiszktd8xEnbf8mArzQyX\n",
       "Im4/WzKcpGcazCfVPKwqlc0thHRwuRTXoZEETdkHFY0OsAYP1PZ2fqe+V3ujymFtu0ZdRSaC72YN\n",
       "27XkHppywh5kSUDyRS5wPqY/OxzZ8oZMhEtKX+tgf+F4JWH5JixjEsLiGeeBC9quryvk/cFGLEOh\n",
       "RFvPouVnCOEDcAk9aFj9A0hjpGiJb+9G22kDUILGethjeqsC6Ew+AmpHbG0EJ64q0a13hicygnXu\n",
       "7+D7ywY9+Vw/m1ZhHUV30gxDaWUyUWPtpvHe+7blvI28fJ8Hd85waOnAY1s7CqcChq4YrJqWkkMv\n",
       "sLaQHLuCm/iz5bbx1PBHGPw3wrm2sog1KmVBQ/qXdZfWFiJ0EIaLzxf5FkLDaWp+nAL4id9tGSQJ\n",
       "/+4kLlK9lHmA06LrVQZ083Z1rnTwVvbEwTvi+TMJuuM682urkAICSFaUZQ2HvnmjgiBrQHxk2Zur\n",
       "H0NKAalejdhC0SXzHEJ/kzVWZVBIf1q0moKwOAJWxYwM7KQ1RbllgdomDEtx7TZMkVyV4+8Xh41S\n",
       "tMuy9bCzEaeqUo19XPcX9Zsc7uJ9FrgPzzlRakMTcvno/IgmvHEQpHJu9lDDQ+02Uc5p6ygLrbj9\n",
       "fv/9Exf7T+JzQAAAAs4BnshqQ/8AA0vjwwD1oYG3cK9vro78AHceqPKE+aN5Wvouz7PuC+OyEMIQ\n",
       "XOQPBf9Vvi3X6tVntTJu6TCWIs8jynraSaIzcj3jnn+MnyeB+AEvcboytg++2FDkzNpMiPZwe0cL\n",
       "bCt2l7h4S1VES5jntHpGcQ1OUX/r4CXDve9LV9JXJn9zKt4eFsXH8Kg9VKVjiD3bRPEtYHCYJpaY\n",
       "asVK5CzNa5cyZsCpuydmUCsciNpRhOoIlDkLbkPyEbkrhgh2s6TzZUAalogHaQ2KPoTysdMjZ2EC\n",
       "A9eRCRcMJbLqz0vpsIcPGR5QnwgIpRQ2Zxpc9hNdgbi8hphj8ZB1CTU3fwgAl67lfnGhJLvPSb1h\n",
       "abJpl/CSke2bWqHjCWXiXkfGPGFIczeSZoQIt0VXR3agK8GwhXR3sKYr8QGQCJPnYjWESw41TUeZ\n",
       "fRLgxUF+LRkbJeF/w0YwaK2TjwjtBxzAdMF7+mrBOfp45weHUfdePj47/PddgaPkTSESNCXxF5Wi\n",
       "dY2eEWXCKU5GFgmio9cRElglYs+xCa0ICMij5m+/2obH2AtqBmxg2n4Te5dS90OPGmPtY1AyTeIG\n",
       "LBVICIdZpGs7xQYptcPSZySiSxDbyUnPL8ZAIFGIYVZAZ3Dl2WxzMiIf+iEtimfN8kxjQd8jcQmy\n",
       "TqYytDIueh4wtmLta84hZoMUZfvoAw/yd9ToKwIjDc6l9LCDSEHv6prJU+TqD0i/1I+lEi/4mqfp\n",
       "BANKSmw1GcbeOGdMPAoEHAhyZMjZVRCPuftDeIMbg9OTdCZUQy4XrEiHcXybmMouptooGPB+79f5\n",
       "2OV99utJT/weZS0AL9RUMi1nKLdVg3pO0xlL39ajF1Ro0HvDRMR7v5O9qHqb+r3FtUohNnUugV7m\n",
       "6Ti5Ly9R07Flo7GcekeBqMcIXJ94DHgQ2Yi4mqd+H4GTh57z8+9gBEkmBAo0kQHJAAAGYEGay0mo\n",
       "QWiZTBTwS//+tSqAAHJ1ln/yD5lwAWzDkgxSqQfSOkkpT43gR9KW6YFx4ICjc0Vt/m3XB2/KlIWl\n",
       "Jv8gBU42iZa0FhPdearjs093Brvp6V5KLtHcDwoOJ+ikbJ8pQiLxriYyQoBAPyZkTworQjP5PMpU\n",
       "VfemvZ15WMbrQk6TeOeKyJaHTkksoFTBVRDl97rFEGSZuj/0olcjAhQl4lW5RDz2nHulyKWI6Np3\n",
       "hnwI3h5gXuu7nkvuaTTU/3Tt4PnXV69YXN1q3yX1NRZcAwA+EBKllU38YsuGlA7zUgO06B+/SYV+\n",
       "f1oldu526jgg+z2Lg/mXm2FGuPCyIdd2pK8KYdTja05KmVjgu/LLso0MlSxW/c3m+NDGpD1Fes5o\n",
       "Xh0xX/OiCpG9zJqe2ieskow+d4jKPL8fraq84xfDUxrUwD3+9fOyzPoclhlmVRUU94VH+a9N6NLN\n",
       "i1ZRolVMnk8v6FN7nB3lfLrK2g4drioJl66CKY6MZWIbWFa63YVsXgLsLeSWjQ4b5zAzVvKJJ9uX\n",
       "KOeNJL3gpM3zNjrgSPt5JHh1/0+5xkeR/ugaUYwnWQenMmdv9Egk6gUqLt/os/WUNxeIgAAGJQOs\n",
       "oG/RnIyPDvT/a4lbjcymdi0Hy7JhYpUwcuT24REoE0f3FJ5pUISBGg/cjhQC4dOTmCzkLk/FdsIq\n",
       "meZn+hrsHf4z98bU6rdnW15u47lH8B+vcnyDYomygPHDvmuQb78tAGVc7Dvcao5vGTjaW8jmVcKE\n",
       "l2AMVD6yqjwVMH5zoZBAob8LR03LHMywO2kg4xgp5tuSn4jCCHmOvbFc7kQTDcNRYycREbFc2WM/\n",
       "I1Z9DnpT1bFoHY9OnBrcKUtA21cA7ChTl3bhbGgRa8mAP66//Hn4BcS1mZnrbST6CfyAehpCxjf1\n",
       "snjnfy3NEIvjhesVuRj/s3RmGE1On9Fm8y32a4way3K4iig2WjHevAXOTxjH1Cv4LfZo/xwABUsa\n",
       "eUkThaK+3Q+aBuHdyZkAG7qyiicV0MhRmBelkLuRuBb+j+UIe3Fe4sHeFR88g2caFfjrOfkInvAx\n",
       "pbGJfXLfkOFLFdCvOuFszCYDBHGGLeO6Hkcszr0yDGAljRgAbYIAA2H2se8bZxJjjNeJNYdaS6Xy\n",
       "fopEXjPqOljLfwuppAJPl3r3hr46KyYVGU1hwCGAvnk2z4K0DhDjebkKCmo/n8duXJ3RZ2Bh45h4\n",
       "2l1e6G1H3MA/+704yzXfXCwwl0gl35y55T5aZ9QGGwxILYLniZoADux84r0nrvHKCUVFWxn7r5dA\n",
       "7wlp8e0okOl/3bfzi3VAhKg4Fq6XI9tDcTUXxBD2nRufRvk+Y6a1bq8FM9ZcUvEO+7pZG8W9NjTC\n",
       "wgn+BcFUJZtxbi+dBYLYoR/xlIaJrydEi4xFmX+GNhtHPAhMTCuCRkzXRqeFZfAW4TACNAFg7Ik+\n",
       "FI4h3pnExZpuBlmNM9i9bEPOnKDGeCj+bcHTRlZy4VmyMvLWBe8zHnpwtt8238WAxvN3mMGO1fZ8\n",
       "+3OJiaeUR4d4GkiKsrX/+MMphkSZqWFGJ3YWFR83Wzb9BfhkY6lzKnP1D7XVbMA5IriqNQNPLKs+\n",
       "eRFKeCOejwBmXBydlkqh1mkzk2DPp4v3P28mx4BnPFyJ+KtE+0Qwg1xpTwM4ZlKo44bU9UyQSJez\n",
       "Lf/Fb//wTHaVRZPVE6412xzd/rAjIOxq08xsQZNOryLKr1W+xfXkyE1O0+ZUdtaoxCwn1dXBBPZP\n",
       "cvZtziugFpElm7U88reWh7iS/QpIqq+VYDfg5Iqs/odca2tgjLdIIZXpngxUsyRH3exqk9ryf4Ku\n",
       "33ijzFeEo4G7lj3Rn+fP3sXTMWsL+Pv00IFnLCli+bxCE/0WnNFaYiX0FgGenuqoX7n3EduQkG5W\n",
       "3JH8Ptv1amV9LpxNFpuqqgKLmA9OS40KX8Qv4pST3p1mbTkgV2b9vs2MQdRTfJWlPas5c3l+a4tY\n",
       "DFeJDjgR4f1oj8ojaO4Q4Gr0Ed+67bbHLgMjvERcWoOIDgVj9x4wpJ8+FTZD4Nq3pL8/1ovAI5JT\n",
       "IqI3SYvMBYpekcRmotCu9h0bCCDZ68BR3TVrv0dNNwTM0x3icmmd4JD3xcZdBM6XSOI3Kg/i9+SD\n",
       "hFBGHzf/7xkWA0hR/LQAPM2G5c2t7eYlhquESuOHgQAAAkYBnupqQ/8AA0wZagQKANgJEy2kbakM\n",
       "JB/SOYkiwcp609aWlnzkBXmI2dh7Q9LGT6Vv+/AyxDW0fQCpKa4CqLyFBry9LjwNYJ5h0NfdeHMz\n",
       "a+exYYtiLfra9YPHd4lFCDjfqH77cD5JjwVVnQZcHH4HGzg/EGJk2VqtWXALDxddShqIldTr+YRl\n",
       "v0JDNmIb+8ce4wAYz7dgL3weo7rM2SA3a2NcFnJiAV3lu8/RGJuwRB2QXckkL3mkGllOgsPL+O/y\n",
       "qtpYfNIFU/UF4aVRDPVAMiYathc/oe4JcT4XWUmd6pBcsrs0ZnIxTmNv1W8kzgngRjpflzsPf6Td\n",
       "gZWp1DzDdh1UmDITLfXeERy2sqiQrZslv7fau15DMxors+TrDg010N9Y3YDkbQh+tl4gk2AWG96M\n",
       "IeiFILXAbI+HrTI5apzLGkvvo3gm94vJShDa06uKh3tjnoIhIbdAnVjlsfMb0JvMHT1a1FtIY2L9\n",
       "BlM8Vz//YA7XCrv3WAud9qKNk4BxGUVPETPnw1kIA8jTcK0Kx7iF9RnXAUBn+016fX+y99DnILvq\n",
       "wTBrp6ZF5sXAIsugf7UYAyVdVDM19SC8qDnvOTbsIGtWUB69SxRVwKwTwaAYnkmaysj0XeheEZn0\n",
       "A7Wdf56TsmsNZkh94sQSbXSO5QSG9H6In4Cix/6UkIlEfKMG019AmQOZAOtI8IBoo93ZIJEuXkT+\n",
       "wQJPAciMvIPRinaAwALdYCJGEL/qPpT+UT0G7k55C7u6hG5dO8fNXZA29KsKsoAAAARNQZrsSeEK\n",
       "UmUwIJ///rUqgABxzer98YiUoAJZPfOEPzxy9zZOBOWAAIisB33Nykkh1x3peGRUuBT9YDZuSPCt\n",
       "JQactaeoKZohzqC/s08gmdt/qrVozv9WX0sLROOtKRFaYev9oDHcA2EFQ0ntsfZK/+NOtooF4xfK\n",
       "9rglG+Y2Y/tatGa5igDlDs5eC2ihuK/rcQr9Yoxwsf/8bAjjy/8hEKfCVcpn4fjO2oEvx8XzmHD3\n",
       "ISz7vjR8WiO9oeZPH+A41mNPPCfby+yvOO4B0DwGEXvE+LLhdg3TvJxwYxsfvTaRhPhxBW5+gphx\n",
       "UxPc76I3YNJocooHxw4dtfH831v+XMiZw0UXsdXFHdOP+saUggcJrgXDHYITbjcqJS+zd+zBa3+2\n",
       "/5NH3cRi3swnANFCZ5Gg5JiIhBoLV5ulwbGk7U+J3EIobv7jGO8X96XvzTrA8aYmZ61RlhvRWT/I\n",
       "l9e1idi73N99ET8TF97AhhrLiOFKILKjoFf5eY46LqXF8jfG4y3klWMHmJnBWcToYlTePG2hrz0k\n",
       "BhLhBr52RwFH/hylr9lPAx3YjXVT8NjhrwvDAZbwyvsAEeVTqI32GycRJYBkz7UqptlkfyAYEdCk\n",
       "FLkP0KKItfX52AnSTnXyV6U7heVUG3KVKZ0qubOTvoPZRniHKjICnl9IV28NeMvCMwPKWn479a6+\n",
       "BdA5FCGFV8J/qB0ZciYhmb1Z2plBQg+faFuYz8H2RJ0sSKIGGZOCAwk+I30N2XWXsVe/kd+IhM/r\n",
       "5FHMnhtqZ/TI32+SmnKEgsRPQPT8G2mQ7DWysrzp59wINL2DDeqFEichRjHu07tLc8CHyeFe0k79\n",
       "5xEKQs75hNLhWIkmt+XOS/1lR/5Qj9TopDKMGkPbGLn42mrWAxZXHKoLsmJ78bXGv25fYoh5IjAI\n",
       "df2Ckumm+nAqdjIQn5cuEhSfHpEDre1slLDd6Sq7Z/MrBDpEISMpu2kUkxlK52FM0NWq4didHVgY\n",
       "NDB4GXohOm5x2PqGLV0G24wvwGyc+UWm6GtyAiSli/IiQo4LaveX4IptmiOTH/YUUNU47AyOfUV7\n",
       "vkFq9GtCjp3jdSatJdWBaeoZzHcM88pftm6DgZbdXuVt3xXjG6ddKbtoSr9IHoiXcrVD+cZsWyw/\n",
       "xCgUlLw6nJc4ppbztAlycbxBtTi82qZ4V5gpGvxkRMrKLad/sfud/YM+K/4/yvEVzlGBTrLeiT+J\n",
       "/bZ55h+JLh7iYE4tUhrwMsTBoZCU9QniU0WUQ6HNpMAOCQgiUdzufmOH0NTT6Z9zbkJALX4XpNWw\n",
       "RnDIlIOQkG4EuC/18z+VciKotmyy6dO2r9R/md+gyjxfrrDydGEF+yOBgCxNyhP6baS4Gd1XH+jE\n",
       "BCpmpgnSfMHiV3L2lTQIKjpvPwJKRX3uDYZdRdy98a9x9qHxwqem7B8mhK8G5PAOteFdhuuGrjEi\n",
       "gHFvDvtsrA0JHGVxAAAGnEGbD0nhDomUwIJ//rUqgAByNZgt3pNawALPP2SSrVIDMj3k7X9JA6AI\n",
       "Auv/AquImFwBtotTK1y4H/Ua5n/HRvGtcGO/mP/sPURvsjkOpNKLmHWzPtPH3oJqEiH6v8Uj5OMU\n",
       "iJiX9tjZ64t7qGL5tgF3T76L7X6v0NcTP46VyIFUVZP8IdKDO+S6ni7RAr9rSfoyLv1nhgsu+KnK\n",
       "WZ284XC6jRuJFOxW/tNRq8B3E0b/s1mCm+GNZJZTl4Xci7AsLtihwCWyPI/FZ63gsq3BnWQnRKrp\n",
       "V9MhDAIs4Uqzdjv8Gba7K2Uw0aGlGzEsuW9hqYgG1PRqgzKFw0K2kFSkcl5sTscgh0enjo6LddVl\n",
       "12COK3Z64icYADNy1Q4EE7nKqsPyBcffh0khYhh/fx0of359KnxdcR5/2mFN759dR7GVIb4rjfvN\n",
       "bb+fMy5XzKcsOXFkAo0Jf4fcM1x8kfI7EwvjudU0kwNwxFvZv5SI1stdyvTajQ+7A5J+8tIJrGh7\n",
       "81qG0JtIir1f+7EDHAdbTRmVpNj9/4wdml85OtAitln8IvXrF4/kCoyO1ZrLuRzwvX6q9CcBD7Ib\n",
       "yqFw2yngjwgPYE7nLL83o+sf+8nPP0xVeLbVYa7kz06SAQjsjXrRdPqK7CNarasRQzjsCzQ62L7f\n",
       "2QP75HLKYjqULJvFWl4Dd0QhdhNE6AVP8BCtPPqNmjv3/RbSKHkIzNSZJsFHpdR7JnAVj4JRjVOn\n",
       "ru/+1JlpQg9zTEceuKjzQbit3aRk2asbDlLrQ0h6RUaiuxfYCCBP4H1cLYMuLhIrqMbUGd68G5gw\n",
       "ZVayUVNBkeB3B6fvyLo+WRbymVMkyRdeUOzgp08ClCARz63PwcgkV6BqoBH9zjcoiP4BwmU/TVaS\n",
       "IHnWAUsQpkcWoVls5Qmm3SNDDysIJvBoiv8uYkTwfeaGWwkRw6T6oZea/+AzEeLeL9GE0vhF5WdA\n",
       "tc55l+qU66NEl842JmOXVrczJNyaoVJAPmXZYixEzpqDyK72+1HpflPjqKvf6OFjoN2429V8OEMN\n",
       "dp01nEO19okQrfLbw20nex8oxTewx3zwEJglfd4jYd/KlI+5wdYOh8ZljNO3COCk05QRHQzyDM+/\n",
       "1SEJJtd2k8kkoWxdSqeegf3vLUK2kUrZcF07f/YOGMkRsAFSvKOh8O1sVqzODJaArMA5ZeFrPvfB\n",
       "/nplMVL2bcvtWSOfXWa5cIaRiWyam272gMmhrJpl+ljz+FtRxAPytfHAlxwWfy82PxJ/E1ERjdUS\n",
       "ELU6sWBveeLGe6jUqgGFzi664ZfxU6iRKz6LRtJM/756UVAF5MjULK8skSJBxmGZrhsqYNHWSOIO\n",
       "arztauF9rRqoQLPBPEkiuAYKz3KpaMIYxc0l9a0SqEHVeevyjYZSuB3cdKIdWuBYMe7nAIxShSSQ\n",
       "3WGSLr9uXxCha2MRJg5RKukW7nrrY3xSqXDreSlaFMVG6q74g8W7H2tsxq66al514sHOECfFxNQ8\n",
       "hXmu56MS4UdI5XTONerlz7WWJsRS9kDUr7TgDvuUWzpumGQJN4wUMPhIlo0/gQ/Rl4zY2P4OkqLm\n",
       "YwYeiD0bk5c0FBES5MccNAvf3it4/XNzLB/+6MqoYlvdHPzkQ4x5iMSb6wnUe3eqUqSKGc7RmDha\n",
       "Zltm4cZ9O9cGquMaORYTYy5674UafVp3TSJ1rifpmJYURQYsTvbEpghoqLS/EptOsBtorhjcxyUa\n",
       "E840sTcO3UrdGrqVJmW5P4kXYbJU0b6c5cVtn51zKR7Nk8IxrAJw/AK0X4jt5RISRAeg4rgMrfjD\n",
       "GO+mzYgaoJG13NnqW6PbuL0axw995iM1xaeQhmFO9eGHc2MgiUZz2cDIWmusagLJ2F+Y19/QL+Y8\n",
       "GxKBz5kifOnHGFH0EU84tlAqmDV3iavdhn8dRggSfQlWLD/l0rilHApEFEpGiA6fTqHrcpbX1xgp\n",
       "yj/KDNcQO0SCHekiOeoyqtkUhE2C9cTzAqJAG5jBUxmkGZ9tLYbtRaYN22pGdzmRpUK08i46rjiM\n",
       "w0SaAna6jrjAEW8gdXT0nDi4Q6zPfPQw0daT/FSAKAz/1dLZMYBRHRKq1AtCDM5P8XMqmTmK39xK\n",
       "fEnMYUSBaloszR73MARYViWfKHM/IB2pFsCMq0xCJgkiMlan+jusuxETqs6pDFsjz1mF6NJ4q1Ok\n",
       "ZeG7+ZYhMndfsJ2j22MpzE/KzkGKa8UTjsMDy16AqmTjgkwT4AwPV22O+4UEocGDvG5x3lBN5wAA\n",
       "Ak5Bny1FETwQ/wABfcs3VYEDyQAAJ2Vx0fit38nFL18RlREPBsjc9t8FO3Lge9u5tYD+EsQLcnWr\n",
       "fbhftWoQ0wGrvR0m7ctXEsg2bo6ENotRj0Hf9SzoEzFwZ3KrY7SCNinUxJsaAURsDIU+nvvbRiV4\n",
       "2h38gbnSB5dEBNbjsJEnc/nUJT4Nct8+koJnzBNl6MIqEnifBXePXAFDlwPk1qYlN+RWpucb8wRp\n",
       "v/KGX+RilwrdDALgUNP0zhuZKBbKJxwG+HmniYIswVew73IVfiMpSvzgnja3OHX+SYtN7xZ5lT/H\n",
       "NIgzxd9G/MbflEjSLF9pHS7CD7gOOkJ8Ym9e2EsTrAn5viI148RL5pHKckqf9GGfwuOE949Ku5wR\n",
       "hjvmFkiS2JLBXkQUrwDna6XCuqqSS/tpXDmBDIIDuVDUADSL/aOJWAawXqBtwKo/fNP+QkAF2q2A\n",
       "6ehqb2iFJwtlxcPPzYk/GgBytBDtJDoe/f6RpEN95Z7ScHGaVFUUgIymPfQe5CxAP5W8+qA3dQDt\n",
       "6jMhpx8wGvpk9qvM5AHxSYZnXRWEJ3zUCYVBO3xHODbnyz2Awlp65V9MR/vroQ58Rvd3/AlI2daL\n",
       "MNC4wylnr6o6OW38laMsE0m/ZKcSuEwzU2ImRi/ndPhBHu4HurQme1Jj73QSsdeirzVkdLFi+/aH\n",
       "7ODkOp+pTOQrmiwic6rXkfp9nF4WvFDqhDX5yFVqwvviLBxr8zoJwuSt2BODqOEWgK4qT5iHoztp\n",
       "Uy00uU1+IQy5EgLjvQTVIf+8o2gs4QAAAZcBn05qQ/8AA0vjxFjO4jdTgAA+GTb7khgAfrBanbyf\n",
       "9KF9cgb1W17z9es3Pk9Ip4hDuBgJQQNH4BroPqquRCwk6r0GcQlmGA2WvH95b0FUggBgA8y/te3k\n",
       "h7o4Z4gi3MJB+92E5rEn5rhuTtr7X4uJDYpcA1QGBcJWtebNaldHQdHqS/W7GvD/XZjogglN36c4\n",
       "6yQEdQTO/H70hvuELbLQ4nC87qVem1mqZJMdcC5VIPWHd7w7lQlA0wP/7PJe2vVoDPuIySmI4zCS\n",
       "y7s/MtY4YoZmP488qLU9506XnZKzBaLCgPFyqBCMHH6PJrCHMh18p3vs2si2Dlnpj++wBs98Avjy\n",
       "59rWZYmcp2vqtVsyHjDe4/BaJ6hQ4RxDMEjVzM7if006pUP+vbX00N4JVdyuSk3+UFlvNlwR8UFR\n",
       "q8y+4YGKplku0tQiriXGz6XI7xdCTcDX8h+0ehACwHya50A1i4aVm6crsr4pZ2lixWKXHIPiTXOP\n",
       "LIvFOp7d1TzyaluB8CcWfEDkRJlg0d5XpCa4j/zA8TUM+QAABORBm1FJqEFomUwU8E///rUqgADk\n",
       "ZY0x6AF1bVVtwPNC5FNKe5PQOEjlbL7r8QqJnrgjBF1dMOOVqJRjLM9K+xqXwQoXEht7D0k77jB/\n",
       "znYUONwkoRihfAMWRSJ48OKczawen6Unq5sautww4WmsHYOUR/hNnwBM0jAizWlGtBDg1J867cnT\n",
       "guppefewS5OlyuaEdwc+APRr+cu2eQiH7bis7CqzK+lA8jtJKtjK48DHk40d/2JbGI1ru2RrrcRQ\n",
       "mIAix76rpZSpVZBky3QmTDHt8Z9BloHvDviWknSTBPoDuthp7lg50f23yp219z0ABI6fxkAb3fNi\n",
       "n6vAc6tAlOxPtk5zeLPgOG4fiBXzDXoIosvWVFNiMlym4sRchfcjnpjqDMkaXSctNNfSAOjXnDQz\n",
       "MNcV3LPEIvE8VgH9o4jNatQNVp6e8SXB+T+VDWc2Ov5cXiHO1BI8/IyNu39mrHC6iBzNPD7IeHdk\n",
       "TtlvMKpIkGRkc+5VdfYQB3mo+DZF96bNQ01jGXTmQuUqapOj6XRCCv07txX+SRrLoUrGhb9wlwhU\n",
       "WSVQRybv4jrcW5s9DqRf2G+5Eh1v4MIniPPUTt5YjaC4ACb+LRDTuPdiOdRsRbPEG3h2p6nYtKnc\n",
       "P4JbHGIK31xaIVerAF1tAc5Mt3b29LZHMo4F5a/La62++8/1YQuhacNdRLPoGSZ5b5MGJxFBh3v+\n",
       "DR9qoYRqHbPb5yp2Qvhf48yxsrMMj8b7/TeC3zzimaL7KZkUEW+D7+G0Wq8AAFxuLUnF7KLsnmv5\n",
       "x+ODShs/ugSJOOYMwuS+OcW9SVlDDAYHVXSm4tKoZmtlfZ7Qs1NCLxucto7DIT0XgsoE4tp1ALO2\n",
       "iQCFEqi/BEhNg9dgZoYn50dlQRqda6l4XovRH4LlhIgkYQvUqa+7+JuKTpFMNXNp5sTVDgx08M09\n",
       "vZ7Ho8cX5YGU7WOaF0PyVb144zc8VhmB4tl+RzDRfEewXvScraC4t0aLKk821AMNErIq1nbzRG7n\n",
       "V/mbcfERXz+1PlIiHiL3PYmGYZmtqN5fuy9KcBB/CVFYyijoMoQt+YkG4GQ9RVIpMCwQuxicMYVr\n",
       "A9x5ADhFW4WsNGikyLgfzxCwZ4oRSMc+ZVuEgeAM65mg7Sdv7Xaq5Cr8/+yfUVrKkQyoVxbhaluj\n",
       "15BOc1nvtzZrRN26KuHF0lkgvwm3aB/E7scb8K1SxHQprgv6N484T39DgyrMwXJ1NvIXxs+6TR/W\n",
       "r5ixTw6hRRGOd0RX7r9yVIVFZR7w33RPrlBb5MmJctLhrQufHCuCyY7e3bQcHBugUTT3mWbuEbc9\n",
       "2uFodROiX+RFaBTE4CGYqWionu+4aqCX9UQSHnudwtojEtXyAH69jRwtc5VKL1Xj/kxkT+jUMPcO\n",
       "6+msLSY7gTI1z+eqC/wDV1wpiUWBVZJs7hzpUUKw4MGDOZUgT4GH3o5lOJM5i+1jf8lRpQ/2NTl5\n",
       "LtEfaKNzLItbL7GoW0fbnNWmg0TAmHszTJhrwjDLWdmbHA9mv9Yr+YVbFa49hyrWKIXB85AoCa+I\n",
       "oo8j5oPA4wrmFqjdpRL+v+96FM18OUrVLCyD9IxPumSgWlIZKY/eEysVoHkbBrnch/xzEee05G6V\n",
       "0nhXEC9rh6tQVmLhnfTM+9W7rfUkpKrVN/yHHfU3Ci0+icnkAAABYgGfcGpD/wADTBlw6qNaAD+k\n",
       "Jf54kIP77GjH+GrXt9SuLHo95Qd8n+5kma97sAt5AoHt7IQHx+1aP/A/bcKvhHMUuvmkQF7uWsMf\n",
       "A9dqhF64G90tbHyDE+lu4GKBMHfkBuLpqGxBTdyxRugz+jWFAazmi3c/u1THc0qPJPegfYus5tXw\n",
       "Z0WEvwo+5R10ItvwwHu213QuPE0tww/GrvKIMdtfoVs5iJg4IZdWWCcTRRnLsYaRIdGJ9G/m89D0\n",
       "RBnC1DNhDDMR2NUbYg00GThxkBLIVmR7dF6N1GrkhIOWsOxrXXmn+z6c+mfABKe20EI8clsY3Hrd\n",
       "QngUKHp/yWndQ9/vo4O0wlWNoMnW5KPJpQOfpItQG049XjAEVlMV6vbMGbUjJQEmYtvTgTUGEVXr\n",
       "xJ/r4A9x12D8NVqIgYVll5ZXjjc2yQlxOtTlM/t5/38nZ8htf1ZDwscOp9/hImj/Qy2RzwAABGBB\n",
       "m3NJ4QpSZTBSwT/+tSqAAOPi2N0tgASrGAH2SuFyaaR/UBLopcr4Obv8jgd8ynthtFHojH3P7InU\n",
       "xjsFwZz9n2jCh6ttWumL/7sta+jv7KFo/qOwnREzdh51oXAfdO5URiiBwttqH71QmvAfo+/Kp1aw\n",
       "bLmu2MWXWxAIZwCvEDuoyaD7C/3bZZ9iO/ywMsS0f4+aZWj7a7cuQyFSR68XFEaFzh6SGfpjCvGk\n",
       "tGHCg/OkPGe7y98FgXVVOanC+eYzS8aME7OXPHOVikgbHi3qTUY6Slvy4UWe//3PTeXVL+XrvDE6\n",
       "ZppYpJ7s9CFEFJFDowwLrXnbYGtmmhLj5btfwh9kkQpc7jZ9zq77C2l2iwDwLcY2OtYwPWpLWmKE\n",
       "n7dvVQ0c+j82sRAP0QB+gm3+6zLc3PUawGQ0i+CPhGlnfmRUfHL+zS4uB0WgR72vyL3tjigQzbQl\n",
       "UQOZAimhZZwFjWGOySA7M+evtIR/v23DczUdQXI+dsETh3/BV4YnTh6WD2HRSo07Ziw6gioEs2yw\n",
       "td87MKY06ZZiJlpd4JSkxvbk02oP5yOxgLpFCrq6ilfoRDknHxkTEoBK8JEbZZc9ER2aRmoLM4JJ\n",
       "fU5dmHKctV6g6XSsm1NmistNNKrqSWctfJKX0Pr+HurR83fhHS2zkXea9Q/uX8ORtNaMxH8EAtTe\n",
       "rkANkNvgAi3aFBva7yJGrUqbo6Yfd0dbqiPFY8gse0wg+cZeJm7/dzrLGnZKox7hzyPH4gF3V2m3\n",
       "UtUxBPhZfp03sAsWIExijleN8upRMrAeBdN8A0chyakDzVxHn497r/fApIffwtYqYxIHeI/AA1Fb\n",
       "vQgJ1EM21ZpO06Cm1X46DB1YWKj1cNaQacyAAG7AJ17IZqEbarg82n4yyh7araoEdqjNj0DaQoOq\n",
       "193qUyLm27PVg4JcLsH717jSf+BMjHvcTLaEs3QeLlF2zfw28OgV2FLUSR5NZQ4aXSguTXPAOtbf\n",
       "zCxS3G6YsUz3udXERv+djzf6FAiTJhFUhF/MLWyGH2wUyjQGy0zJUSh8Sh8RPilXkNF57mcjuukj\n",
       "7d9otH8TqRKMzisIgu08HtpeFvhB/R/9OdJ1tWT4TAoJneOqLv21F+cnWomLhjrp4ckYfdXlI4SJ\n",
       "K7Hq2rwPpAhpYIpX76+xdxNupdTtHCZ71fagE9GfaSgzNLTNrnx2EzBIsXCLK7t5SWWmkVablfze\n",
       "2YX/g+vCe4fc8f6Irkc5xwcdkUb9FBequaVmP+idyWAV+gG7DjrkD3ljNizKjmG0MSLp8Dey+4PF\n",
       "h4L3VHVZYO+GTTXerJhquBnyQFNB74XEZCML/8YTZJ0NudhaNNgdJnKlLVYtFTUKzJGakiwgu9uw\n",
       "U/hpB83g6uKpdj8O6FnBAdmrq73x9uD3D9Mg4Cf8SNL4Lhn3qsdBRRXXvxdSVLJMHVimajLr/AQf\n",
       "dVmwfpOickteUKOvdzb6H3EKT2zQVA7RElOEuBWtTHbv9b3BAAABXAGfkmpD/wADQ8lGwJe43MAH\n",
       "8kzkGGOKciJSLxovI83FdSXedci5R3V3i0ApbVyKnF2GQbqU2MQepBX54ltj2joOJA3/BQ3Sl7Rc\n",
       "ZNbPflAVGQcpL0afJSE9Koqfm6Z/1aUd6sbA+p8vX1socWOpMGe79aVX8miCx9LSyZdW/D266C2r\n",
       "8afVJyhwXm7u+HODHJhoZOMp5rZ+ZmlVAjogTujVuH9cys8X/UFGcGqnnk1pCjDOTdtEBqvUCClg\n",
       "52nlJzGwaeQlZFcvMqodxSvzHdaeUxqp/V4T0wvnhycDV8De60JNtuz9k2TC/IyYcKR9YA9MagrV\n",
       "kBACCFz4F1X5Z7ICHSv3gckDascLOjkDmubpHHxMR5A33XfYWhr3zF46vnpqvLWKkgWUfKNR5W2A\n",
       "AL/Zol/O9iYL7tRWGzfIuXqNfwuUSOC5wxYzisnwGFf0NZ7fUgirvJIgtwCVgAAABFpBm5VJ4Q6J\n",
       "lMFEwU/+1oywADpIdIwn3LACVZwVh50r+mXddXF75yXA48mkyFxaKNZ12N9T0MYBmFPOZrZdp1Ey\n",
       "Q6pGbAryis4orxY9Rc1PIstZ85skhYneoRd1Mv9dJaCEjMdBKf059HhuW2r6+ch/rQj5gdS92MBo\n",
       "vPCWOy4vjIi/w5gfm0Gwr+fBLC3mji61LfCuTTV38/gU7w/3O4sSAdb/kC/HivGEjFsTQ7VbRXPI\n",
       "ie/0w/XalUCAEiEawFiu4OZwUfM1Ity/ZTlqSEEqcUbIyVFmeKxpMR9fudDfItbJsQWkwIpfCGCl\n",
       "vJDaihokTDpuetSO8WKrG+KAkP44W1WgUIPM6huq7oWHmVJIoKi+ggAdWgraH6RUyEYobiGgz85W\n",
       "C3GcJGD4Haz0wgntJzplf3UZAsRz6AQ2W4PhUOfO8lDpWlVGcRTdlq29HaA5rSftGzQW6qawOfgi\n",
       "IsUIytltZ+d1vl/dXvvPZHQVXFglHU9a7hYwqbxpvWTI3YM7Viidh2P6pevYq5HmuyxYYlUP7d93\n",
       "Ix0vxp56VoOc4pr9/XKogGOKHgWMCzERCOQVU659P1/i7acbk45R/FUYtsESpm73uP2VHoy6Pvbo\n",
       "Jg87+NXVGUrcdJuua/3AS4O0QbjkIICQzXCexvUlBQ9sjrGAdU2XUmIs3NQptkmemtfazXi9FfQR\n",
       "JeuOdrMv+2A2Gijtn6YxUkMpDOgHfnmcfVIcnBkGQ17i3cTDlvLtTjwGJWA86lTHRW3DS6pkMuIS\n",
       "pNvqe8jzg0c0Hnu94YVvPiogo0zg+f3LZHSBEFqJcNQQ+beSDC23G8pOVAT21KelWIaU+k86zwDg\n",
       "D2LDm84Y+BTrQlRV5Yz1GYLiT7lv+wptkhGOxnWaa5nb8Ss6i9dZ/8FdBU/sWO4c8bpVtVF8xs0L\n",
       "hk9WwbhmhljAa0kOl543y0oj9DmH9XfNI9+SSWKTMzHrS5i+iSEFqU5XwBu2XBDGvQ6mU2qKonHd\n",
       "83lYxCs4BpJ5h9IDzCFcCHGfm4VGVjGsA2Nv68gLS8AFbjJMNSreSZxQuLoCccrrQB3XCBBZXGwR\n",
       "c9iLPRsJfx09QUqHaVTLedT/xPbAc0Drc9U2E0s4ZL0I3VRqFOfTmn4vkRNAchGhHDLwLvimckur\n",
       "+jTp+do4D/64xzlj+LwbFC5ko6xwjVoowHvs3pqwbKM5cMlkNI8SDyhUqmwjUGBf6ntrmqGVD1GR\n",
       "zH8S7Ughsq29rZ++iQy0B5QlLKYa5cNIqEkiv09BrhmCxBd28lkujGv60h5Rka8ntAfxSclYS8i/\n",
       "gOGnFv8E9qZ8CJKWXIdkZwA4voNV/8pH4e1NCaWLCZjBjZ6l38s5Sq2esYszpNOgugWBNn+xB1zX\n",
       "L+zR5muuao533UtL/W6y84pDU1shn5u0WF0yPdLKFxogS5NZyYVlv6IUmAF6jrJcq0OetKfhgbMO\n",
       "tN/qe1tKa/HPPO1CQwnRw0vKLGnnoG6gAAAA4wGftGpD/wADQ8lGyquFPXmAD7j2r4pp8Afav8/H\n",
       "ceiasyrqjD0pd2QOgRDa+WNL5uvsbwVlUFiFe4VJ0lWXhrc/3EySx5DpSWaIAdBkcCuv+S9SvFaV\n",
       "8nFX5D1qKpMarH1D5OBE8avCrXWt2FYnTRcpHD8GB0WtPQENrgEPkMBhxBeMA/Qs1/sxpcuJGbMr\n",
       "fHt+gMUvQoIkkZ2oYYSIfEkYPVEsVS/jmFjypXQbWVfVLtBYom4KkSIY2rDoZxyKOUvurQOM3cTl\n",
       "mpxUcWJBD134aOn23TtuFpc5yJrgt5JM2rdbAAAE/0GbuUnhDyZTAgp//taMsAA6SH246PpIAN23\n",
       "BSgp4uuZHmg8vmPChgQ4u0DF3m2u5acPQ/nwqry6CwZOKSbNHCh2CcLdWiT94EKzLI9BQh2LOIO8\n",
       "vF602Ljo/7JNzeVrC3zEVvTK9TcfOHO7Jm1UPQzc581JtEA+0PDHDHNwzITcKpLY+jdI/qdVOgpo\n",
       "tW4F5MlYidT55mYtDNvKJ94cJ451ymufEaGd2MjI7Vybh2aD6mpnrSLKiEkBmiaRvrLZYEApq9KH\n",
       "ExV6ZskkB8QXYTVQiMdXfpkTDC0DqrBXFxvjbEh4ubt4SRqsMFHTkuRqIxGh4pL0GrfNCX593bCZ\n",
       "Kqc+MTaohpvTiSJnempI+EWOEskmI7v8Oyj5Zl+cf7LIpfCzIao0rB8bHM+s1YTjWSp0nhLrrtYT\n",
       "/xvLkINEIh+33JW2S0Q7riSG1FIhGcLcZPMMkPtceD8jod1TkwHujccgoLEfLJ/S3twWK4Rum+3v\n",
       "YkJtNnSXkY0FqJkLX+oTWY0HBXgZsgit2RyLa+/b5Rek3R3pvl/QJM1xBTBZqKoL/3ry0OslIIwc\n",
       "YekZV1AeY2p1hfBOCgcXSsZoyptuS9Jy4oTIqlq+w7X0/Crk/awAV9t6AAgVeg7m6opI6W4xcc+Y\n",
       "QCgxzoPBdYDgkBFiTKKtjVlklXKxIdAh5CSp0DYGaLdSy+3Zbzdag3NSlGCglj6hxfCXm88svB2m\n",
       "KPnqRDIO7heMzG33Ap4zhlV5+2Qbyo71X71ZzeLfrS9VGVBK4zHkc1TCiP346YhUq23nCi3HAQDK\n",
       "AaE9ShsPt9oSbQ6b7tQV1WyTAqQAvEWCe15Y1fE1fI08Q18LwbGSLQLqRvju1SVLlSO8xPcTLrHO\n",
       "aZ45wrVD28mkqR4LNJwX6Om9ntVQxvvH+4vAamkVQ6G+H4sXUPNgXCwX+9AeaZPGKNFOu+yK/OgL\n",
       "HXD4zQghTvrL9Lf+kNb+Rrx/1uOXzNh34LsbfqxNx0MtWYJgay25fb87MNYd0HY7ca3ghGcTq2Cv\n",
       "czOmfVx+N8wdDyGaBmcjniyJLyAK+Wx33YK7Q2yjZqyeJTeH5H/I529s75feKBozl6DtId8P5dOR\n",
       "dD/YL0edRfVRMbgeO8Oj0LwZdVshserDFd9MDpbfYK4Ji93/N2yG5KzA5tHrrw4d9/IbQaMMwy0y\n",
       "xbMJceRHx/OkdqqwYHfMLyRWfK2D7DiL/Au9VcrlR1KqRV7NNhOmkYkoiWEEwyEoaiAwDVw9eBDo\n",
       "3jHx/i414AKo0gNMWx+hdSgaOJI/tbYvWSFs+Pc1sIjxw20av2Mpqcz3+YThjo70lzFO8Qp5ZyzV\n",
       "aQz1MlD6rfP7LVr2hu8MTLbLpELdhaEEux4J+YWHiOG53ltMlRAj93xM4qJI66iJVokhDNLna+YJ\n",
       "6cwMRGSs41LSoRnqNDDvC6p0iIFFOwHE9zel+heQj8zePMM82KXP1sECv85NpKrOSjPwcutOaplH\n",
       "e1lzlHFUOOBHg5a+5RSyPQ76pnNzhtOac9htwjSA5kUdLwGGdUNJuC6kUZZW01g7y8QbwGvdJsGI\n",
       "H4m1vHZqUJRxgnDkqKoYYmqyGu7/HiTyaYyaS8l9XSaKn1Ly1StlhDK/+Ixta6WJgKjksv+8luiZ\n",
       "aWF9CkhlgjtPAz9WCaw0A2zudHacg33XNjt7FTi5hHEnmYNzz4wxrfv91jVENuVBw4Q5Ak56XXAA\n",
       "AAGOQZ/XRRE8EP8AAXoJ84vM+yO+wAt3zoXyUBP2Mynm83/B9sfPOSPsijuXvDvet7rX+n8UgVgA\n",
       "sP0+g1Z9hwxZ5kGb79rMYy4k3KwMRDhzIsjgSvqA1kYzEv/yBUlPQ4b7HEU+cjxfz+PV5QVM3e3r\n",
       "S9mKO7ZP8aVYPRfxKMs7bhGQPJdNXe0Ays7+843dIugIYXYxtJ4tbWmljmIudJtbGI6HXv7Ekd3f\n",
       "rgJqfniiMP71b1CjUmc/XpVa/5T1b8z7+ysWKMZUULxABAZxhD69VmufRe+uBn4Zv8hm8HZFo+NY\n",
       "Nv8Bd7WduEpyxtg3uyleSnCToAC7yxD5+Xwg6ryVKT/5GXfaz6mjH6YrNpTiP4q3kYhmlGkza2gF\n",
       "w6sNME+OOHAoOMqf27BCfMLUwBU5ejM117ut8E/QoC5I1S49ZVOIgPnVFRYANF4RuYhVX5kQx5vp\n",
       "/vU8Z5BkBviKTbm9+MAnFezx+PvmasFMVQsMtcnNbm5Pd6ckGtVLFHw3wnqd4fqjfxnYTjUwJnoI\n",
       "CzkAAADWAZ/2dEP/AANLdLcB18stAB856ICcS9V8GX4vZbPW8OzUEkPpplinWNAEURC4e6nbTGfn\n",
       "ZkpvDWg1eBPn+WekIvf491gheu3J/Iz6k5aWVNB5Hh2I9lgGMVbu4CaajDkxo01LGtToHGcHJLTM\n",
       "SbgtDFhvlbfH98vEO1991OjZ6eVymRHpWRizSJPowPtwTHv4lBBKgffRaKUbUYMBQgrvFRk/lXzH\n",
       "XhE8NbV69x4apQoLRzAgBT4AdKMdZJdaNum56x8dOVDis8X/1X3NKV52TPHvbCNtwQAAAJoBn/hq\n",
       "Q/8AA0vj06gm/loAPpwPDUpFoXlhwNj4sIecd049WwGBRG6xC2fljcuUzwVQolz2UmPzobx8ZOJv\n",
       "d8cpvEzVotOCzWSoS+WxvBhV/y4rxFBmvQkf0LVmoUGGFgQRf+xsOhvBZSwuDlWZKaM0v2Oot2ar\n",
       "v5qq+3wxWzAB66jabYNV+H4YwtFo3NjMWBwpO7xB93esaEOCAAAEZkGb/UmoQWiZTAgp//7WjLAA\n",
       "Okex3r4mhiAC2p2LfXklYKX+AV7lfHwfc0mgJLVrsO8cMoYgChIsDy4rFD+LYdtN2+8q/Snt4Plm\n",
       "pzutKTMvTcCIfL9GSHzTtxIcvG6JZeeS3nredp02URvw5GCri32HhVqzblV6fCmCjbS3kr4iUC7p\n",
       "ff+CgK+SXI0kDcnw/KS5/rOnsu1/0/NNB6xnzcquQDmMy6g3JTAnyxCo3p1arwf7gur+hI+bdJc8\n",
       "FkI3fJZtTYb4pAM+6gDcSyZrZm9u1E2X7e9ivwFvPTkzeFjs3HgaGyPZdFPso0Pp1oKt4p5DPfNH\n",
       "yNtA1kZWltU2Nl9Wu4rLPdric8bkk1TKKzAUN11VmmatDNG8KXGcp3+y7yP/Xq4yJ05IHbf9QPW/\n",
       "sLZ2fzib8Qq+bFFlBWTkZqNVS2CSytHYBr7TQhb5MnLPnENr+EgmpAuT9WideE3504ubNwLPiW9w\n",
       "FyeLruDhz1KJYspkoE91Wc4GjNj4XiaGRcWFhhhiK/EwrN03bj5L+7KjpqoOXh1mytQei9znDG6h\n",
       "fnPZhrokXJtfcI6t3fhnPJsLskS2HQphQTsc8cVf9mE2XtOXJ0Z05vAaLUP2A4gJcbdQvyve8sAT\n",
       "l6t16T7CFqU8EU4csLYl5SjBH82HRfErsu6KZN3UJ7ju5FymrQ92xZL6aeaSZ+V44akEllx+dOfL\n",
       "zbCgikVPfcpBoGnvqZB5TtLCyQb+Gg0zY+y56gHwOIRxa6/Wt2gaU8KZeEIy6kRa6Xxr2phBYsAO\n",
       "YNDZtOgxWWKdl5i+KXWMN1/yVh2Qfc/hxJ8VV+/cyJ3IQvWFH1wnP6TUkt99PwO7L3sjqwbIpWnL\n",
       "vXcjDi7GiI0fnTI9gsQ1ivL94W8YzzXX8mSRng6qN9NyZMTH7imaDZJnkwVuuYWCD/5f198dD5XO\n",
       "CNWQ36+6yodJq2EmHmGZDGBtYT8+vLzsA1jboazcEeh5g+MNAA8ti/SlSMqVhD9f2e1z34blMd7D\n",
       "4JusZyMVwfljG5OROCQyu2yhDB3No008lqoHlcp4svrkUzXmH4hUlhDQn5yKLNu07QKXDu5mG5jW\n",
       "MN5TwjwZ8Qtei3+KBvUCTvk9Oz8HA+GO2ZSpXaTKFmTIFRReZyLFArr9Q9m0lSY4QYi97E205I2L\n",
       "H4mCDDt/vixOyhyYlMiDY0bPntEjF5t05T/GV+f22vLhf2cua9Pc5pLu8xsC1rkbc4fGlBLU/dQA\n",
       "uibkVXy8+bradmtwPTT858eWCOE+BLqM5Myjs3jyxshuB+FjS8XEN7PL5QUYEDZaKmdG/pu/8+Lc\n",
       "HnlpsXTIc7qy21J2278iJHSqGr/h9OyVeNPEz++D+3PFuZfAcbGzxApsOXpu2b8EGJjXe7m8A45a\n",
       "zQNeXb7Tm1air1ZDMO2dSfrGnY0tDY7CewNyVLKo6Jk/K0zt/p2VThgfNEohRYXzH2FiZJB5TQK3\n",
       "JLUUK6xSe4Ar/zrRnCQ2DoI54zIm2IuG3U0AAAD0QZ4bRREsEP8AAX3VNtftIl+ZM6kAALawObOE\n",
       "JMc8EubrziGFMz/HG6y9Ociha31s95hg5mxqTA2KRtfPsFdsMtMTEVpU1paYHO0t+2IVcZgNzdnX\n",
       "axI604JHVYMrpFKxubf9KmjMK3QMSTcwZX0YG48/2X09xzE6X3flfHM2AXC8565pY9CxA7J4NsCt\n",
       "ycM8mloTim7XUYH2pYMQjEem3sBmtoZVC6KnAUENQB5VxdExhdLGxvRtyOVPxp7x/XsntJUYKmR6\n",
       "GUmPDfS/tsRYy3ddjfn2FZ6eSwiEOhG4CQnAG0IhwrZrvB7g/WGp4DB0UFHegAAAAHEBnjp0Q/8A\n",
       "A0t0tn/+D+7mcYVKgGBQmC2CORixzW0OEM7Uchw6BP3ABOk+V7ZVol9rkZgmisw0BROWPaMfCn6a\n",
       "17Ql6yd0FJepTnIQ7SwwDwAz+Hqmo6S3EgmHZe+/U9boU0EvuyXVWyZaSJn+D4sMqQAAADsBnjxq\n",
       "Q/8AA0vjxEXlL29FB3yc3gbc55Bg/aGpJdACmGnrQGBIa/SNFKVIASwB8EK/KrcpKBJr9oULdwAA\n",
       "AxhBmiFJqEFsmUwIJ//+tSqAAOOWJHIVbhwAN+GBzmskgSmwLGlWPPfqJu/2mkhyjhXDrkyu+bLc\n",
       "IZTKDWb+bUkJeSdhZKR3rzvvs8llhIPodutl8Cy+Sfek1bxJuue2WSambvkSwXGVLK4dgPVXhbRT\n",
       "gqd0iwIb9ivtWXG2U726ljmeNIDV9asQutt9Cn8hu41evOooNH2FKTkIr8qA3aInRtI1vS/bAwjc\n",
       "o9fyb0yJ/NUa6RFQIIhr2SlP4hwXejzmK/2vz3NeAaREBfdalpMJdExWSYqDnXMoy5iLS90ok3Xm\n",
       "rkd4clrr6mJK/5UYPbV9v8SqsvkU2+Uc4dG4RbkEhxoSER9C1CTjSh3PbN3h+qi4lKcpoLKBiyLF\n",
       "Ldvo6pP6Sb37Hgkd7Mer0PsKe8JSV+XbbBF3u2MFc/F389dbgmy8U2W9U2tDbyJ6BrIMSqsZJkFy\n",
       "Q2LZL/1qoHB7cjxkW0IMAyqz3RwJ+LR1zM/fHS89jteBieMkgO++wqEfiLf6mpoFUQPHGW88S+Yc\n",
       "IWhwdGI2nj69W66SR+X+MpjrfpYjv8JmC7k5/OIr7+XWWqktQzR6/v+X/Zxvg4FvRjIZwej53hvr\n",
       "JK846rBhgQ+hT50dE8Hp0cfpzAZBIV5RgIK1s0CsmTb13uP+SYq50K9pHDlDqgM3exmmzQZ0q7ND\n",
       "TPZa/cTAN48Sa0zSkVGeRZE6aAg4w+PhYP8FA2MYM1ZkISd+6IayxqB+HyfcZmIqf5uRArNSfWqs\n",
       "7uSupnb1rqqU8/x2eKrObVDThlVbb35/VZrVVL0yJERdOF6sUYvrPbYpymnTIQ6ubWzkkX76FtXt\n",
       "8hMwtMymVL5Dj+iM0GOYNLnczviw2cHPEAzB22OW1BpH9XMqGuaFubY5a9jSQdPpcj16Fr85Kz0n\n",
       "WEmQNUs5/OVGcXFRklAClrb83QiANjoxK8TX1cX4pGMmmNn/1ZaPXRE6S3S5/v+q2XJvsnTFhgnr\n",
       "3u/D5YFmKcCXo5/wVXKGdNyBA8tr9ELiqZIfqMl6lRp/MLBK5bjA3B3DNF6IqS33OIzvl3AAAACX\n",
       "QZ5fRRUsEP8AAX3VNtgrx/NF0ZWD+AATmvZnwc9k9NIT5IVA823Mbh3vpy/oh/d9zcjDvbk4ClbI\n",
       "t5z8dACYONP1uYkDW6SNJKY89KSrf1QVR3PJej2URD+3TOPqQc8cT/Lxkt7IAJXPBpZTXV7Q1Mxc\n",
       "Y7WB/MNXNLQhYLiF3cSx/NPXpYcZvHwT03Y/eNvQPBYe+1NXQAAAAC8Bnn50Q/8AA0t0on3sAnVP\n",
       "zDT92d4J45CTcF/MWm1pryIAPFGW0sYi/j7/h7aNGQAAACMBnmBqQ/8AA0vjwwD1fPaU+eB5gdwW\n",
       "vEoeVSeybn6fCcL4YAAAAmNBmmVJqEFsmUwIJ//+tSqAAOOb9ntqP5ACJeXf9V2kOiErlT5rDkC7\n",
       "3fkHk6nREffgrCEq58c6PZTD/8gP1DG6NyJAERZY19gAYCX80xeMMc3+rp1ZVfXspOZQiZHNNdoB\n",
       "pvs+oisVKVEoSjs40ODos66MAXzHCZui9/EHBVGQg7oWjN/yqoHWRR0PkkbIq7Rj0kBe44Hc1mFq\n",
       "LQqp2R0oO05R07ZFspFMbungSHj3STbb6/t8f6B+8d7m205AJf+fZR4Qw4UcE+ioZhFe8ZADznBn\n",
       "ifrL4ge0RlnJbyH7Pqm4yRGYxEf3KdiGPr0ca1FQrNzKhPPYs0CBHo/w23HQIlvdEA+HoyPTQjtA\n",
       "h8f/DG20buJ1pHiBzHkbBIZUmt5fRmDFCe10TQlDDgCFlU/6bbIwEPESq42kDxw4GSp0FLW58QLg\n",
       "7q3O8Gr/nxDH8FwasZiAOqLvai/EBBohcjkEcoP3nmtGb1KEO2V3jJDqh6oj5TxZEWXTnanNdiV0\n",
       "agdVooJOPoab2YDJ0GteSgODgv/UIWMzEfC0q8M3Hggldas7h2DgGz2xaNSIlENUBrSAKq4kyACf\n",
       "6mdcJ00Oj9N69GIlOlIGS292K8cvfYAlJXS4iEHVyw28oT22292Td9jBkSj66O3eRWSa6r9lZNKI\n",
       "vwUaj1vi6kWRUrJZoL126u9pFmHscCA7jbd4S+P70te3/rE1sCkwyyg+2XzuDsgb2dgF/rji942T\n",
       "X2ABkb8CCs4Kc6VOwKZc8WWJzEXrablXPKwV523e7YCEFovwSE3EFGSRxoZ0GyZvP7zXSMJTTilM\n",
       "tQAAAD1BnoNFFSwQ/wABfdU05hlOsk+/rhEEB5nHOR5ENSGgkuTADcU+QYHBrwzl2bY4cZHTNZV5\n",
       "q3ffyfPp28u2AAAAHQGeonRD/wADS3SifewEHFsQfg7ndx83T28DbVbjAAAAHQGepGpD/wADS+PD\n",
       "APV+OdGX7QgM+3yPJULDTXDdAAABoUGaqUmoQWyZTAgn//61KoAA45vll5AwAcaLkibBJk61NLhe\n",
       "ilPiIbGMHM95RGIkyjzjEVaTH9O02mdcx78HthLOJXfh7j3pslmfvOW8Pl1RxTwFGaLs348C4dDo\n",
       "gf0G+ELnToNP5lSXyLbTzju9zUXFEUrdt4BuQoe28r/XPdEK068DDV29nquC9wKsqq5l7E1K6B1y\n",
       "JCoAhmTxrW3pM+mZJ/aOQPzAgXm2eZxPdcEyNDU7pK10JN3mNcIPVd+PDEC+eH9iwzJN0/fhchn/\n",
       "jvLOAgGFx+PwtiNMkf/y1zv2k3ALMp6NhW5KV13uaS5+IFkSfW7qRPhToSlWHUuj8B3h17Mt/kmz\n",
       "ukxKCZyGav5teMC/vOVWsm9iYeQFSlW6qY2PK9Umgn9kiC+iUMIulLxDq2BFTE/yACKIwOjDeN3R\n",
       "IDgMpK0cT6Upe9TFeZosR9YxoHRi7ZIbyn7TfLw1RdZ097DahV7h1r5ZeMoX+ATT/bFXe27RPzE4\n",
       "KgEEvxuM392S5xZE+xPfxDVk2hKIiaWRSHmRt20puoqJourE/pN/sQAAAClBnsdFFSwQ/wABfdU0\n",
       "5hlOwpTqRdNOaUcEE1UusAPHHGrz2n0AsUoJeQAAABgBnuZ0Q/8AA0t0on3sBBxZQEAG5dEYnTAA\n",
       "AAAZAZ7oakP/AANL48MA9X450PbzlyChkCKFIAAAANFBmu1JqEFsmUwIJf/+tSqAAOQydMQAXUDs\n",
       "KUQpGyII06aGAi60mbj1u4PfkEYgDYhCp8z8q75TFMI8h7DzCd6LqynLr9VBqVXn+0r6yZL03E1S\n",
       "aEc5VFqkrQavbTFU0WL1S4fI0z19LzUJxLVw34JQgGaBj0gStNRwe+PWvvB4L/jDgpdOcRA4+81M\n",
       "AnAhBW7CkRNgPhcZQqmq1JOK04k4Twwox+KLOxN3kMg1N08TgXKS3yKQ7U3zEje8Z6nbV9G7TLai\n",
       "wXuDM8YzWopr36f6oQAAACNBnwtFFSwQ/wABfdU05hlOwpTdbxj/pCfg3khEg2PznLAZkwAAABgB\n",
       "nyp0Q/8AA0t0on3sBBxZQD6Odzg0opAAAAAaAZ8sakP/AANL48MA9X450PbzuKCbjOHI6JkAAAA/\n",
       "QZsxSahBbJlMCH///qmWAAAUI3F+H8EpjzWHcAGzW/IMYIOeGhrcBn/3TVmiTg60uxuDrtLFB1P9\n",
       "bRgA0BiJAAAAIkGfT0UVLBD/AAF91TTmGU7ClN1vGP+kJ+Da1irYi/kzqZ8AAAAaAZ9udEP/AANL\n",
       "dKJ97AQcWUA+ztyhWKWSJGAAAAAYAZ9wakP/AANL48MA9X450Pbzt24l/gQcAAAFfm1vb3YAAABs\n",
       "bXZoZAAAAAAAAAAAAAAAAAAAA+gAACcQAAEAAAEAAAAAAAAAAAAAAAABAAAAAAAAAAAAAAAAAAAA\n",
       "AQAAAAAAAAAAAAAAAAAAQAAAAAAAAAAAAAAAAAAAAAAAAAAAAAAAAAAAAAAAAAIAAASodHJhawAA\n",
       "AFx0a2hkAAAAAwAAAAAAAAAAAAAAAQAAAAAAACcQAAAAAAAAAAAAAAAAAAAAAAABAAAAAAAAAAAA\n",
       "AAAAAAAAAQAAAAAAAAAAAAAAAAAAQAAAAAGwAAABIAAAAAAAJGVkdHMAAAAcZWxzdAAAAAAAAAAB\n",
       "AAAnEAAAEAAAAQAAAAAEIG1kaWEAAAAgbWRoZAAAAAAAAAAAAAAAAAAAKAAAAZAAVcQAAAAAAC1o\n",
       "ZGxyAAAAAAAAAAB2aWRlAAAAAAAAAAAAAAAAVmlkZW9IYW5kbGVyAAAAA8ttaW5mAAAAFHZtaGQA\n",
       "AAABAAAAAAAAAAAAAAAkZGluZgAAABxkcmVmAAAAAAAAAAEAAAAMdXJsIAAAAAEAAAOLc3RibAAA\n",
       "ALNzdHNkAAAAAAAAAAEAAACjYXZjMQAAAAAAAAABAAAAAAAAAAAAAAAAAAAAAAGwASAASAAAAEgA\n",
       "AAAAAAAAAQAAAAAAAAAAAAAAAAAAAAAAAAAAAAAAAAAAAAAAAAAAABj//wAAADFhdmNDAWQAFf/h\n",
       "ABhnZAAVrNlBsJaEAAADAAQAAAMAKDxYtlgBAAZo6+PLIsAAAAAcdXVpZGtoQPJfJE/FujmlG88D\n",
       "I/MAAAAAAAAAGHN0dHMAAAAAAAAAAQAAADIAAAgAAAAAFHN0c3MAAAAAAAAAAQAAAAEAAAGYY3R0\n",
       "cwAAAAAAAAAxAAAAAQAAEAAAAAABAAAoAAAAAAEAABAAAAAAAQAAAAAAAAABAAAIAAAAAAEAABAA\n",
       "AAAAAQAAKAAAAAABAAAQAAAAAAEAAAAAAAAAAQAACAAAAAABAAAYAAAAAAEAAAgAAAAAAQAAEAAA\n",
       "AAABAAAgAAAAAAIAAAgAAAAAAQAAGAAAAAABAAAIAAAAAAEAABgAAAAAAQAACAAAAAABAAAYAAAA\n",
       "AAEAAAgAAAAAAQAAKAAAAAABAAAQAAAAAAEAAAAAAAAAAQAACAAAAAABAAAoAAAAAAEAABAAAAAA\n",
       "AQAAAAAAAAABAAAIAAAAAAEAACgAAAAAAQAAEAAAAAABAAAAAAAAAAEAAAgAAAAAAQAAKAAAAAAB\n",
       "AAAQAAAAAAEAAAAAAAAAAQAACAAAAAABAAAoAAAAAAEAABAAAAAAAQAAAAAAAAABAAAIAAAAAAEA\n",
       "ACgAAAAAAQAAEAAAAAABAAAAAAAAAAEAAAgAAAAAAQAAKAAAAAABAAAQAAAAAAEAAAAAAAAAAQAA\n",
       "CAAAAAAcc3RzYwAAAAAAAAABAAAAAQAAADIAAAABAAAA3HN0c3oAAAAAAAAAAAAAADIAACysAAAH\n",
       "VAAABb4AAAU4AAAECwAAA4oAAAX4AAADvwAAAqkAAALSAAAGZAAAAkoAAARRAAAGoAAAAlIAAAGb\n",
       "AAAE6AAAAWYAAARkAAABYAAABF4AAADnAAAFAwAAAZIAAADaAAAAngAABGoAAAD4AAAAdQAAAD8A\n",
       "AAMcAAAAmwAAADMAAAAnAAACZwAAAEEAAAAhAAAAIQAAAaUAAAAtAAAAHAAAAB0AAADVAAAAJwAA\n",
       "ABwAAAAeAAAAQwAAACYAAAAeAAAAHAAAABRzdGNvAAAAAAAAAAEAAAAsAAAAYnVkdGEAAABabWV0\n",
       "YQAAAAAAAAAhaGRscgAAAAAAAAAAbWRpcmFwcGwAAAAAAAAAAAAAAAAtaWxzdAAAACWpdG9vAAAA\n",
       "HWRhdGEAAAABAAAAAExhdmY1Ny44My4xMDA=\n",
       "\">\n",
       "  Your browser does not support the video tag.\n",
       "</video>"
      ],
      "text/plain": [
       "<IPython.core.display.HTML object>"
      ]
     },
     "execution_count": 29,
     "metadata": {
      "tags": []
     },
     "output_type": "execute_result"
    },
    {
     "data": {
      "image/png": "[encoded data removed]",
      "text/plain": [
       "<Figure size 432x288 with 1 Axes>"
      ]
     },
     "metadata": {
      "needs_background": "light",
      "tags": []
     },
     "output_type": "display_data"
    }
   ],
   "source": [
    "fig, ax = plt.subplots()\n",
    "ln, = plt.plot([], [], 'ro-', animated=True)\n",
    "\n",
    "def init():\n",
    "  plt.scatter(x_test, y_test, color='g')\n",
    "  ax.set_xlim(0, 1.0)\n",
    "  ax.set_ylim(0, 1.0)\n",
    "  return ln,\n",
    "\n",
    "def update_frame(frame):\n",
    "  m, c = mc_values_anim[frame]\n",
    "  x1, y1 = -0.5, m * -.5 + c\n",
    "  x2, y2 = 1.5, m * 1.5 + c\n",
    "  ln.set_data([x1, x2], [y1, y2])\n",
    "  return ln,\n",
    "\n",
    "anim = FuncAnimation(fig, update_frame, frames=range(len(mc_values_anim)),\n",
    "                     init_func = init, blit=True)\n",
    "HTML(anim.to_html5_video())"
   ]
  },
  {
   "cell_type": "code",
   "execution_count": 0,
   "metadata": {
    "colab": {
     "base_uri": "https://localhost:8080/",
     "height": 282
    },
    "colab_type": "code",
    "id": "LOEy8e4MIqUM",
    "outputId": "869578b5-920e-493a-d071-01828bdf6228"
   },
   "outputs": [
    {
     "data": {
      "text/plain": [
       "[<matplotlib.lines.Line2D at 0x7f1fa2858e10>]"
      ]
     },
     "execution_count": 31,
     "metadata": {
      "tags": []
     },
     "output_type": "execute_result"
    },
    {
     "data": {
      "image/png": "[encoded data removed]",
      "text/plain": [
       "<Figure size 432x288 with 1 Axes>"
      ]
     },
     "metadata": {
      "needs_background": "light",
      "tags": []
     },
     "output_type": "display_data"
    }
   ],
   "source": [
    "plt.scatter(x_train, y_train, color='b')\n",
    "plt.plot(x_train, (m * x_train + c) , color = 'r')"
   ]
  },
  {
   "cell_type": "code",
   "execution_count": 0,
   "metadata": {
    "colab": {
     "base_uri": "https://localhost:8080/",
     "height": 296
    },
    "colab_type": "code",
    "id": "zq-xg-ZFIyAc",
    "outputId": "318d1595-d42c-4fbd-ea60-a51dcd672b16"
   },
   "outputs": [
    {
     "data": {
      "text/plain": [
       "Text(0.5, 0, 'Iterations')"
      ]
     },
     "execution_count": 32,
     "metadata": {
      "tags": []
     },
     "output_type": "execute_result"
    },
    {
     "data": {
      "image/png": "[encoded data removed]",
      "text/plain": [
       "<Figure size 432x288 with 1 Axes>"
      ]
     },
     "metadata": {
      "needs_background": "light",
      "tags": []
     },
     "output_type": "display_data"
    }
   ],
   "source": [
    "plt.plot(np.arange(len(error_values)),error_values)\n",
    "plt.ylabel('Error')\n",
    "plt.xlabel('Iterations')"
   ]
  },
  {
   "cell_type": "code",
   "execution_count": 0,
   "metadata": {
    "colab": {},
    "colab_type": "code",
    "id": "-BewSUgrI0yP"
   },
   "outputs": [],
   "source": [
    "predicted = (m * x_test) + c"
   ]
  },
  {
   "cell_type": "code",
   "execution_count": 0,
   "metadata": {
    "colab": {
     "base_uri": "https://localhost:8080/",
     "height": 34
    },
    "colab_type": "code",
    "id": "p-CrqPKbJ18c",
    "outputId": "be4048c6-dbd7-43e5-fe8f-1aa6c1bd51ed"
   },
   "outputs": [
    {
     "data": {
      "text/plain": [
       "0.0192679281869669"
      ]
     },
     "execution_count": 34,
     "metadata": {
      "tags": []
     },
     "output_type": "execute_result"
    }
   ],
   "source": [
    "mean_squared_error(y_test,predicted)"
   ]
  },
  {
   "cell_type": "code",
   "execution_count": 0,
   "metadata": {
    "colab": {
     "base_uri": "https://localhost:8080/",
     "height": 195
    },
    "colab_type": "code",
    "id": "3fWK5q5pJ5wk",
    "outputId": "b1660242-180f-4931-c91b-f36ed604b6c0"
   },
   "outputs": [
    {
     "data": {
      "text/html": [
       "<div>\n",
       "<style scoped>\n",
       "    .dataframe tbody tr th:only-of-type {\n",
       "        vertical-align: middle;\n",
       "    }\n",
       "\n",
       "    .dataframe tbody tr th {\n",
       "        vertical-align: top;\n",
       "    }\n",
       "\n",
       "    .dataframe thead th {\n",
       "        text-align: right;\n",
       "    }\n",
       "</style>\n",
       "<table border=\"1\" class=\"dataframe\">\n",
       "  <thead>\n",
       "    <tr style=\"text-align: right;\">\n",
       "      <th></th>\n",
       "      <th>x</th>\n",
       "      <th>target_y</th>\n",
       "      <th>predicted_y</th>\n",
       "    </tr>\n",
       "  </thead>\n",
       "  <tbody>\n",
       "    <tr>\n",
       "      <th>0</th>\n",
       "      <td>[0.4525386313465783]</td>\n",
       "      <td>[0.20222222222222225]</td>\n",
       "      <td>[0.2713426755593406]</td>\n",
       "    </tr>\n",
       "    <tr>\n",
       "      <th>1</th>\n",
       "      <td>[0.0780905077262693]</td>\n",
       "      <td>[0.6644444444444444]</td>\n",
       "      <td>[0.5604958328538889]</td>\n",
       "    </tr>\n",
       "    <tr>\n",
       "      <th>2</th>\n",
       "      <td>[0.17439293598233996]</td>\n",
       "      <td>[0.6222222222222222]</td>\n",
       "      <td>[0.48612998768380977]</td>\n",
       "    </tr>\n",
       "    <tr>\n",
       "      <th>3</th>\n",
       "      <td>[0.0380794701986755]</td>\n",
       "      <td>[0.8666666666666667]</td>\n",
       "      <td>[0.5913928172368731]</td>\n",
       "    </tr>\n",
       "    <tr>\n",
       "      <th>4</th>\n",
       "      <td>[0.3976269315673289]</td>\n",
       "      <td>[0.18]</td>\n",
       "      <td>[0.31374612309184985]</td>\n",
       "    </tr>\n",
       "  </tbody>\n",
       "</table>\n",
       "</div>"
      ],
      "text/plain": [
       "                       x               target_y            predicted_y\n",
       "0   [0.4525386313465783]  [0.20222222222222225]   [0.2713426755593406]\n",
       "1   [0.0780905077262693]   [0.6644444444444444]   [0.5604958328538889]\n",
       "2  [0.17439293598233996]   [0.6222222222222222]  [0.48612998768380977]\n",
       "3   [0.0380794701986755]   [0.8666666666666667]   [0.5913928172368731]\n",
       "4   [0.3976269315673289]                 [0.18]  [0.31374612309184985]"
      ]
     },
     "execution_count": 35,
     "metadata": {
      "tags": []
     },
     "output_type": "execute_result"
    }
   ],
   "source": [
    "p = pd.DataFrame(list(zip(x_test, y_test,predicted)),columns=['x','target_y','predicted_y' ])\n",
    "p.head()"
   ]
  },
  {
   "cell_type": "code",
   "execution_count": 0,
   "metadata": {
    "colab": {
     "base_uri": "https://localhost:8080/",
     "height": 282
    },
    "colab_type": "code",
    "id": "yPt4dsVBJ-zv",
    "outputId": "c6332b44-1261-41f1-8f17-2b697deb4833"
   },
   "outputs": [
    {
     "data": {
      "text/plain": [
       "[<matplotlib.lines.Line2D at 0x7f1f72c6da58>]"
      ]
     },
     "execution_count": 36,
     "metadata": {
      "tags": []
     },
     "output_type": "execute_result"
    },
    {
     "data": {
      "image/png": "[encoded data removed]",
      "text/plain": [
       "<Figure size 432x288 with 1 Axes>"
      ]
     },
     "metadata": {
      "needs_background": "light",
      "tags": []
     },
     "output_type": "display_data"
    }
   ],
   "source": [
    "plt.scatter(x_test , y_test, color='b')\n",
    "plt.plot(x_test, predicted, color='r')"
   ]
  },
  {
   "cell_type": "code",
   "execution_count": 0,
   "metadata": {
    "colab": {
     "base_uri": "https://localhost:8080/",
     "height": 195
    },
    "colab_type": "code",
    "id": "5KYi_2HbKCJE",
    "outputId": "e8eb528c-7f48-4454-c069-46c146c349cf"
   },
   "outputs": [
    {
     "data": {
      "text/html": [
       "<div>\n",
       "<style scoped>\n",
       "    .dataframe tbody tr th:only-of-type {\n",
       "        vertical-align: middle;\n",
       "    }\n",
       "\n",
       "    .dataframe tbody tr th {\n",
       "        vertical-align: top;\n",
       "    }\n",
       "\n",
       "    .dataframe thead th {\n",
       "        text-align: right;\n",
       "    }\n",
       "</style>\n",
       "<table border=\"1\" class=\"dataframe\">\n",
       "  <thead>\n",
       "    <tr style=\"text-align: right;\">\n",
       "      <th></th>\n",
       "      <th>x</th>\n",
       "      <th>target_y</th>\n",
       "      <th>predicted_y</th>\n",
       "    </tr>\n",
       "  </thead>\n",
       "  <tbody>\n",
       "    <tr>\n",
       "      <th>0</th>\n",
       "      <td>18.13</td>\n",
       "      <td>14.1</td>\n",
       "      <td>17.21</td>\n",
       "    </tr>\n",
       "    <tr>\n",
       "      <th>1</th>\n",
       "      <td>4.56</td>\n",
       "      <td>34.9</td>\n",
       "      <td>30.22</td>\n",
       "    </tr>\n",
       "    <tr>\n",
       "      <th>2</th>\n",
       "      <td>8.05</td>\n",
       "      <td>33.0</td>\n",
       "      <td>26.88</td>\n",
       "    </tr>\n",
       "    <tr>\n",
       "      <th>3</th>\n",
       "      <td>3.11</td>\n",
       "      <td>44.0</td>\n",
       "      <td>31.61</td>\n",
       "    </tr>\n",
       "    <tr>\n",
       "      <th>4</th>\n",
       "      <td>16.14</td>\n",
       "      <td>13.1</td>\n",
       "      <td>19.12</td>\n",
       "    </tr>\n",
       "  </tbody>\n",
       "</table>\n",
       "</div>"
      ],
      "text/plain": [
       "       x  target_y  predicted_y\n",
       "0  18.13      14.1        17.21\n",
       "1   4.56      34.9        30.22\n",
       "2   8.05      33.0        26.88\n",
       "3   3.11      44.0        31.61\n",
       "4  16.14      13.1        19.12"
      ]
     },
     "execution_count": 37,
     "metadata": {
      "tags": []
     },
     "output_type": "execute_result"
    }
   ],
   "source": [
    "predicted = predicted.reshape(-1, 1)\n",
    "x_test = x_test.reshape(-1, 1)\n",
    "y_test = y_test.reshape(-1, 1)\n",
    "\n",
    "x_test_scaled = x_scaler.inverse_transform(x_test)\n",
    "y_test_scaled = y_scaler.inverse_transform(y_test)\n",
    "predicted_scaled = y_scaler.inverse_transform(predicted)\n",
    "\n",
    "x_test_scaled = x_test_scaled[:, -1]\n",
    "y_test_scaled = y_test_scaled[:, -1]\n",
    "predicted_scaled = predicted_scaled[:, -1]\n",
    "\n",
    "p = pd.DataFrame(list(zip(x_test_scaled, y_test_scaled, predicted_scaled)), columns=['x','target_y','predicted_y'])\n",
    "p = p.round(decimals= 2)\n",
    "p.head()"
   ]
  },
  {
   "cell_type": "code",
   "execution_count": 0,
   "metadata": {
    "colab": {},
    "colab_type": "code",
    "id": "Lq2KJjvYKFcy"
   },
   "outputs": [],
   "source": []
  }
 ],
 "metadata": {
  "colab": {
   "collapsed_sections": [],
   "name": "Boston house ML Project Sujit.ipynb",
   "provenance": []
  },
  "kernelspec": {
   "display_name": "Python 3",
   "language": "python",
   "name": "python3"
  },
  "language_info": {
   "codemirror_mode": {
    "name": "ipython",
    "version": 3
   },
   "file_extension": ".py",
   "mimetype": "text/x-python",
   "name": "python",
   "nbconvert_exporter": "python",
   "pygments_lexer": "ipython3",
   "version": "3.7.3"
  }
 },
 "nbformat": 4,
 "nbformat_minor": 1
}
